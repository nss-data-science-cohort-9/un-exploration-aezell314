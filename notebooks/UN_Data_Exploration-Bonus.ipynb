{
 "cells": [
  {
   "cell_type": "markdown",
   "id": "19e6afa5-8523-4110-b114-ef4896c14000",
   "metadata": {},
   "source": [
    "# UN Data Exploration for NSS Data Science - Abigail Ezell"
   ]
  },
  {
   "cell_type": "code",
   "execution_count": 22,
   "id": "c212142e-0414-4082-a58c-808e28c6aaf5",
   "metadata": {},
   "outputs": [],
   "source": [
    "import pandas as pd\n",
    "import numpy as np\n",
    "import matplotlib.pyplot as plt\n",
    "import seaborn as sns"
   ]
  },
  {
   "cell_type": "code",
   "execution_count": 23,
   "id": "37267082-83a2-4524-8834-15240e1bbee1",
   "metadata": {},
   "outputs": [],
   "source": [
    "gdp_df=pd.read_csv(\"../data/gdp_per_capita.csv\")"
   ]
  },
  {
   "cell_type": "code",
   "execution_count": 24,
   "id": "6792bd9c-fa08-40f2-b376-77fdafdc69f6",
   "metadata": {},
   "outputs": [],
   "source": [
    "gdp_df = (\n",
    "    gdp_df\n",
    "    .drop(columns='Value Footnotes')\n",
    "    .rename(columns={'Country or Area':'Country','Value':'GDP_Per_Capita'})\n",
    ")"
   ]
  },
  {
   "cell_type": "code",
   "execution_count": 25,
   "id": "f27b09e2-7ccc-4f97-bcb9-c4000b586d98",
   "metadata": {},
   "outputs": [],
   "source": [
    "gdp_df['Country'] = gdp_df['Country'].astype(\"string\")"
   ]
  },
  {
   "cell_type": "code",
   "execution_count": 26,
   "id": "f38b5e96-4d81-4885-9c47-09f334d69e4d",
   "metadata": {},
   "outputs": [],
   "source": [
    "continents=pd.read_csv(\"../data/continents.csv\")"
   ]
  },
  {
   "cell_type": "code",
   "execution_count": 27,
   "id": "d2c52f10-7987-4c77-8ccc-85ba55e827bd",
   "metadata": {},
   "outputs": [],
   "source": [
    "gdp_df=gdp_df.merge(continents, how='inner', on='Country')"
   ]
  },
  {
   "cell_type": "code",
   "execution_count": 29,
   "id": "401243ef-fd7b-491b-9458-92e620611e71",
   "metadata": {},
   "outputs": [],
   "source": [
    "life_expectancy=pd.read_csv(\"../data/API_SP.DYN.LE00.IN_DS2_en_csv_v2_22997.csv\",skiprows=4)"
   ]
  },
  {
   "cell_type": "code",
   "execution_count": 30,
   "id": "be0f10fd-f725-4296-a273-ef7eb5ef6381",
   "metadata": {},
   "outputs": [],
   "source": [
    "life_expectancy = (\n",
    "    life_expectancy\n",
    "    .drop(columns=['Country Code', 'Indicator Name','Indicator Code'])\n",
    "    .melt(id_vars='Country Name')\n",
    "    .rename(columns={'Country Name':'Country','variable':'Year','value':'Life_Expectancy'})\n",
    ")"
   ]
  },
  {
   "cell_type": "code",
   "execution_count": 31,
   "id": "034e1fb3-77f0-4c7c-94b6-b2168b55ef64",
   "metadata": {},
   "outputs": [],
   "source": [
    "# I'll convert both 'Year' and 'Country' to string in both dataframes\n",
    "gdp_df['Year'] = gdp_df['Year'].astype(\"string\")\n",
    "life_expectancy['Year'] = life_expectancy['Year'].astype(\"string\")\n",
    "# I'll convert Country to string in life_expectancy\n",
    "life_expectancy['Country'] = life_expectancy['Country'].astype(\"string\")"
   ]
  },
  {
   "cell_type": "code",
   "execution_count": 32,
   "id": "fdf06733-72ed-402a-9997-ed606331cb19",
   "metadata": {},
   "outputs": [
    {
     "name": "stdout",
     "output_type": "stream",
     "text": [
      "          Country  Year  GDP_Per_Capita Continent  Life_Expectancy\n",
      "0     Afghanistan  2023     1992.424394      Asia           66.035\n",
      "1     Afghanistan  2022     1981.710168      Asia           65.617\n",
      "2     Afghanistan  2021     2144.166570      Asia           60.417\n",
      "3     Afghanistan  2020     2769.685745      Asia           61.454\n",
      "4     Afghanistan  2019     2927.245144      Asia           62.941\n",
      "...           ...   ...             ...       ...              ...\n",
      "5851     Zimbabwe  1994     3965.730986    Africa           52.537\n",
      "5852     Zimbabwe  1993     3634.750494    Africa           53.976\n",
      "5853     Zimbabwe  1992     3649.891947    Africa           55.602\n",
      "5854     Zimbabwe  1991     4126.405247    Africa           57.037\n",
      "5855     Zimbabwe  1990     4013.299059    Africa           58.319\n",
      "\n",
      "[5856 rows x 5 columns]\n"
     ]
    }
   ],
   "source": [
    "# Merge gdp_df and life_expectancy on country and year columns\n",
    "gdp_le=gdp_df.merge(life_expectancy, on=['Country','Year'], how='inner')\n",
    "# Merged dataframe was initially coming out as blank; checking to make sure there are no trailing or leading spaces\n",
    "gdp_df['Country']=gdp_df['Country'].str.strip()\n",
    "life_expectancy['Country']=life_expectancy['Country'].str.strip()\n",
    "gdp_df['Year']=gdp_df['Year'].str.strip()\n",
    "life_expectancy['Year']=life_expectancy['Year'].str.strip()\n",
    "print(gdp_le)"
   ]
  },
  {
   "cell_type": "markdown",
   "id": "90b4d0ce-0b26-414d-837b-86c6e079a134",
   "metadata": {},
   "source": [
    "Let's compare the median life expectacy for each across all of the years of data that we have. Perform a groupby on both Year and Continent and then aggregate using the median and save the results to a new object.\n",
    "\n",
    "a. What type of object results from this? \\\n",
    "b. Look at the index of the resulting object. What do you notice about it? \\\n",
    "c. Use .loc to select the median life expectancy for Asia in 2010. \\\n",
    "d. Use .loc to select the median life expectancy for both Asia and Africa in 2010. \\\n",
    "e. Use .loc to select the values for all continents for the year 2010. \\\n",
    "f. Use .loc to select the median life expectancy for Asia across all years. Hint: One way to do this is to use the swaplevels method."
   ]
  },
  {
   "cell_type": "code",
   "execution_count": 41,
   "id": "426b7dd6-edf9-4027-8aa3-527888cf6186",
   "metadata": {},
   "outputs": [
    {
     "data": {
      "text/plain": [
       "Country                    object\n",
       "Year               string[python]\n",
       "GDP_Per_Capita            float64\n",
       "Continent                  object\n",
       "Life_Expectancy           float64\n",
       "dtype: object"
      ]
     },
     "execution_count": 41,
     "metadata": {},
     "output_type": "execute_result"
    }
   ],
   "source": [
    "gdp_le.dtypes"
   ]
  },
  {
   "cell_type": "code",
   "execution_count": 50,
   "id": "66402b2c-ef4c-4e03-9d33-4a91df17ed59",
   "metadata": {},
   "outputs": [
    {
     "data": {
      "text/plain": [
       "Year  Continent    \n",
       "1990  Africa           53.684000\n",
       "      Asia             65.736500\n",
       "      Europe           74.370671\n",
       "      North America    70.471000\n",
       "      Oceania          65.056000\n",
       "                         ...    \n",
       "2023  Asia             74.537000\n",
       "      Europe           80.541463\n",
       "      North America    74.333500\n",
       "      Oceania          68.292500\n",
       "      South America    77.392000\n",
       "Name: Life_Expectancy, Length: 204, dtype: float64"
      ]
     },
     "execution_count": 50,
     "metadata": {},
     "output_type": "execute_result"
    }
   ],
   "source": [
    "gdp_le_med=gdp_le.groupby(['Year','Continent']).Life_Expectancy.agg('median')\n",
    "gdp_le_med"
   ]
  },
  {
   "cell_type": "code",
   "execution_count": 51,
   "id": "1dd4c02f-54ac-48a7-8cb8-7dccc6404a96",
   "metadata": {},
   "outputs": [
    {
     "data": {
      "text/plain": [
       "pandas.core.series.Series"
      ]
     },
     "execution_count": 51,
     "metadata": {},
     "output_type": "execute_result"
    }
   ],
   "source": [
    "type(gdp_le_med)"
   ]
  },
  {
   "cell_type": "code",
   "execution_count": 52,
   "id": "b490c7db-bf4e-4843-91b6-e5cbfd354f35",
   "metadata": {},
   "outputs": [
    {
     "data": {
      "text/plain": [
       "MultiIndex([('1990',        'Africa'),\n",
       "            ('1990',          'Asia'),\n",
       "            ('1990',        'Europe'),\n",
       "            ('1990', 'North America'),\n",
       "            ('1990',       'Oceania'),\n",
       "            ('1990', 'South America'),\n",
       "            ('1991',        'Africa'),\n",
       "            ('1991',          'Asia'),\n",
       "            ('1991',        'Europe'),\n",
       "            ('1991', 'North America'),\n",
       "            ...\n",
       "            ('2022',        'Europe'),\n",
       "            ('2022', 'North America'),\n",
       "            ('2022',       'Oceania'),\n",
       "            ('2022', 'South America'),\n",
       "            ('2023',        'Africa'),\n",
       "            ('2023',          'Asia'),\n",
       "            ('2023',        'Europe'),\n",
       "            ('2023', 'North America'),\n",
       "            ('2023',       'Oceania'),\n",
       "            ('2023', 'South America')],\n",
       "           names=['Year', 'Continent'], length=204)"
      ]
     },
     "execution_count": 52,
     "metadata": {},
     "output_type": "execute_result"
    }
   ],
   "source": [
    "gdp_le_med.index"
   ]
  },
  {
   "cell_type": "markdown",
   "id": "c0f47e8f-c418-4253-8e9f-e803daf560c2",
   "metadata": {},
   "source": [
    "*The resulting index is a hierarchical index. The columns we grouped by ended up as the indices of the resulting series.*"
   ]
  },
  {
   "cell_type": "code",
   "execution_count": null,
   "id": "71ba9524-be39-41bd-bfbb-2dbf1e61aacb",
   "metadata": {},
   "outputs": [],
   "source": []
  }
 ],
 "metadata": {
  "kernelspec": {
   "display_name": "Python [conda env:base] *",
   "language": "python",
   "name": "conda-base-py"
  },
  "language_info": {
   "codemirror_mode": {
    "name": "ipython",
    "version": 3
   },
   "file_extension": ".py",
   "mimetype": "text/x-python",
   "name": "python",
   "nbconvert_exporter": "python",
   "pygments_lexer": "ipython3",
   "version": "3.13.5"
  }
 },
 "nbformat": 4,
 "nbformat_minor": 5
}
