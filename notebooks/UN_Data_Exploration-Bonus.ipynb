{
 "cells": [
  {
   "cell_type": "markdown",
   "id": "19e6afa5-8523-4110-b114-ef4896c14000",
   "metadata": {},
   "source": [
    "# UN Data Exploration Bonus for NSS Data Science - Abigail Ezell"
   ]
  },
  {
   "cell_type": "code",
   "execution_count": 22,
   "id": "c212142e-0414-4082-a58c-808e28c6aaf5",
   "metadata": {},
   "outputs": [],
   "source": [
    "import pandas as pd\n",
    "import numpy as np\n",
    "import matplotlib.pyplot as plt\n",
    "import seaborn as sns"
   ]
  },
  {
   "cell_type": "code",
   "execution_count": 23,
   "id": "37267082-83a2-4524-8834-15240e1bbee1",
   "metadata": {},
   "outputs": [],
   "source": [
    "gdp_df=pd.read_csv(\"../data/gdp_per_capita.csv\")"
   ]
  },
  {
   "cell_type": "code",
   "execution_count": 24,
   "id": "6792bd9c-fa08-40f2-b376-77fdafdc69f6",
   "metadata": {},
   "outputs": [],
   "source": [
    "gdp_df = (\n",
    "    gdp_df\n",
    "    .drop(columns='Value Footnotes')\n",
    "    .rename(columns={'Country or Area':'Country','Value':'GDP_Per_Capita'})\n",
    ")"
   ]
  },
  {
   "cell_type": "code",
   "execution_count": 25,
   "id": "f27b09e2-7ccc-4f97-bcb9-c4000b586d98",
   "metadata": {},
   "outputs": [],
   "source": [
    "gdp_df['Country'] = gdp_df['Country'].astype(\"string\")"
   ]
  },
  {
   "cell_type": "code",
   "execution_count": 26,
   "id": "f38b5e96-4d81-4885-9c47-09f334d69e4d",
   "metadata": {},
   "outputs": [],
   "source": [
    "continents=pd.read_csv(\"../data/continents.csv\")"
   ]
  },
  {
   "cell_type": "code",
   "execution_count": 27,
   "id": "d2c52f10-7987-4c77-8ccc-85ba55e827bd",
   "metadata": {},
   "outputs": [],
   "source": [
    "gdp_df=gdp_df.merge(continents, how='inner', on='Country')"
   ]
  },
  {
   "cell_type": "code",
   "execution_count": 29,
   "id": "401243ef-fd7b-491b-9458-92e620611e71",
   "metadata": {},
   "outputs": [],
   "source": [
    "life_expectancy=pd.read_csv(\"../data/API_SP.DYN.LE00.IN_DS2_en_csv_v2_22997.csv\",skiprows=4)"
   ]
  },
  {
   "cell_type": "code",
   "execution_count": 30,
   "id": "be0f10fd-f725-4296-a273-ef7eb5ef6381",
   "metadata": {},
   "outputs": [],
   "source": [
    "life_expectancy = (\n",
    "    life_expectancy\n",
    "    .drop(columns=['Country Code', 'Indicator Name','Indicator Code'])\n",
    "    .melt(id_vars='Country Name')\n",
    "    .rename(columns={'Country Name':'Country','variable':'Year','value':'Life_Expectancy'})\n",
    ")"
   ]
  },
  {
   "cell_type": "code",
   "execution_count": 31,
   "id": "034e1fb3-77f0-4c7c-94b6-b2168b55ef64",
   "metadata": {},
   "outputs": [],
   "source": [
    "# I'll convert both 'Year' and 'Country' to string in both dataframes\n",
    "gdp_df['Year'] = gdp_df['Year'].astype(\"string\")\n",
    "life_expectancy['Year'] = life_expectancy['Year'].astype(\"string\")\n",
    "# I'll convert Country to string in life_expectancy\n",
    "life_expectancy['Country'] = life_expectancy['Country'].astype(\"string\")"
   ]
  },
  {
   "cell_type": "code",
   "execution_count": 32,
   "id": "fdf06733-72ed-402a-9997-ed606331cb19",
   "metadata": {},
   "outputs": [
    {
     "name": "stdout",
     "output_type": "stream",
     "text": [
      "          Country  Year  GDP_Per_Capita Continent  Life_Expectancy\n",
      "0     Afghanistan  2023     1992.424394      Asia           66.035\n",
      "1     Afghanistan  2022     1981.710168      Asia           65.617\n",
      "2     Afghanistan  2021     2144.166570      Asia           60.417\n",
      "3     Afghanistan  2020     2769.685745      Asia           61.454\n",
      "4     Afghanistan  2019     2927.245144      Asia           62.941\n",
      "...           ...   ...             ...       ...              ...\n",
      "5851     Zimbabwe  1994     3965.730986    Africa           52.537\n",
      "5852     Zimbabwe  1993     3634.750494    Africa           53.976\n",
      "5853     Zimbabwe  1992     3649.891947    Africa           55.602\n",
      "5854     Zimbabwe  1991     4126.405247    Africa           57.037\n",
      "5855     Zimbabwe  1990     4013.299059    Africa           58.319\n",
      "\n",
      "[5856 rows x 5 columns]\n"
     ]
    }
   ],
   "source": [
    "# Merge gdp_df and life_expectancy on country and year columns\n",
    "gdp_le=gdp_df.merge(life_expectancy, on=['Country','Year'], how='inner')\n",
    "# Merged dataframe was initially coming out as blank; checking to make sure there are no trailing or leading spaces\n",
    "gdp_df['Country']=gdp_df['Country'].str.strip()\n",
    "life_expectancy['Country']=life_expectancy['Country'].str.strip()\n",
    "gdp_df['Year']=gdp_df['Year'].str.strip()\n",
    "life_expectancy['Year']=life_expectancy['Year'].str.strip()\n",
    "print(gdp_le)"
   ]
  },
  {
   "cell_type": "markdown",
   "id": "90b4d0ce-0b26-414d-837b-86c6e079a134",
   "metadata": {},
   "source": [
    "Let's compare the median life expectacy for each across all of the years of data that we have. Perform a groupby on both Year and Continent and then aggregate using the median and save the results to a new object.\n",
    "\n",
    "a. What type of object results from this? \\\n",
    "b. Look at the index of the resulting object. What do you notice about it? \\\n",
    "c. Use .loc to select the median life expectancy for Asia in 2010. \\\n",
    "d. Use .loc to select the median life expectancy for both Asia and Africa in 2010. \\\n",
    "e. Use .loc to select the values for all continents for the year 2010. \\\n",
    "f. Use .loc to select the median life expectancy for Asia across all years. Hint: One way to do this is to use the swaplevels method."
   ]
  },
  {
   "cell_type": "code",
   "execution_count": 41,
   "id": "426b7dd6-edf9-4027-8aa3-527888cf6186",
   "metadata": {},
   "outputs": [
    {
     "data": {
      "text/plain": [
       "Country                    object\n",
       "Year               string[python]\n",
       "GDP_Per_Capita            float64\n",
       "Continent                  object\n",
       "Life_Expectancy           float64\n",
       "dtype: object"
      ]
     },
     "execution_count": 41,
     "metadata": {},
     "output_type": "execute_result"
    }
   ],
   "source": [
    "gdp_le.dtypes"
   ]
  },
  {
   "cell_type": "code",
   "execution_count": 50,
   "id": "66402b2c-ef4c-4e03-9d33-4a91df17ed59",
   "metadata": {},
   "outputs": [
    {
     "data": {
      "text/plain": [
       "Year  Continent    \n",
       "1990  Africa           53.684000\n",
       "      Asia             65.736500\n",
       "      Europe           74.370671\n",
       "      North America    70.471000\n",
       "      Oceania          65.056000\n",
       "                         ...    \n",
       "2023  Asia             74.537000\n",
       "      Europe           80.541463\n",
       "      North America    74.333500\n",
       "      Oceania          68.292500\n",
       "      South America    77.392000\n",
       "Name: Life_Expectancy, Length: 204, dtype: float64"
      ]
     },
     "execution_count": 50,
     "metadata": {},
     "output_type": "execute_result"
    }
   ],
   "source": [
    "gdp_le_med=gdp_le.groupby(['Year','Continent']).Life_Expectancy.agg('median')\n",
    "gdp_le_med"
   ]
  },
  {
   "cell_type": "code",
   "execution_count": 51,
   "id": "1dd4c02f-54ac-48a7-8cb8-7dccc6404a96",
   "metadata": {},
   "outputs": [
    {
     "data": {
      "text/plain": [
       "pandas.core.series.Series"
      ]
     },
     "execution_count": 51,
     "metadata": {},
     "output_type": "execute_result"
    }
   ],
   "source": [
    "type(gdp_le_med)"
   ]
  },
  {
   "cell_type": "code",
   "execution_count": 52,
   "id": "b490c7db-bf4e-4843-91b6-e5cbfd354f35",
   "metadata": {},
   "outputs": [
    {
     "data": {
      "text/plain": [
       "MultiIndex([('1990',        'Africa'),\n",
       "            ('1990',          'Asia'),\n",
       "            ('1990',        'Europe'),\n",
       "            ('1990', 'North America'),\n",
       "            ('1990',       'Oceania'),\n",
       "            ('1990', 'South America'),\n",
       "            ('1991',        'Africa'),\n",
       "            ('1991',          'Asia'),\n",
       "            ('1991',        'Europe'),\n",
       "            ('1991', 'North America'),\n",
       "            ...\n",
       "            ('2022',        'Europe'),\n",
       "            ('2022', 'North America'),\n",
       "            ('2022',       'Oceania'),\n",
       "            ('2022', 'South America'),\n",
       "            ('2023',        'Africa'),\n",
       "            ('2023',          'Asia'),\n",
       "            ('2023',        'Europe'),\n",
       "            ('2023', 'North America'),\n",
       "            ('2023',       'Oceania'),\n",
       "            ('2023', 'South America')],\n",
       "           names=['Year', 'Continent'], length=204)"
      ]
     },
     "execution_count": 52,
     "metadata": {},
     "output_type": "execute_result"
    }
   ],
   "source": [
    "gdp_le_med.index"
   ]
  },
  {
   "cell_type": "markdown",
   "id": "c0f47e8f-c418-4253-8e9f-e803daf560c2",
   "metadata": {},
   "source": [
    "*The resulting index is a hierarchical index. The columns we grouped by ended up as the indices of the resulting series.*"
   ]
  },
  {
   "cell_type": "code",
   "execution_count": 54,
   "id": "71ba9524-be39-41bd-bfbb-2dbf1e61aacb",
   "metadata": {},
   "outputs": [
    {
     "name": "stdout",
     "output_type": "stream",
     "text": [
      "71.569\n"
     ]
    }
   ],
   "source": [
    "#median life expectancy for Asia in 2010\n",
    "print(gdp_le_med.loc[('2010','Asia')])"
   ]
  },
  {
   "cell_type": "code",
   "execution_count": 60,
   "id": "16bf3b0f-09b0-41b0-8e6e-7c10892a341f",
   "metadata": {},
   "outputs": [
    {
     "data": {
      "text/plain": [
       "Year  Continent\n",
       "2010  Asia         71.5690\n",
       "      Africa       58.6365\n",
       "Name: Life_Expectancy, dtype: float64"
      ]
     },
     "execution_count": 60,
     "metadata": {},
     "output_type": "execute_result"
    }
   ],
   "source": [
    "#median life expectancy for both Asia and Africa in 2010\n",
    "gdp_le_med.loc[('2010',['Asia','Africa'])]"
   ]
  },
  {
   "cell_type": "code",
   "execution_count": 61,
   "id": "ea3605b0-bc79-43a7-b578-2fa4ea7b7184",
   "metadata": {},
   "outputs": [
    {
     "data": {
      "text/plain": [
       "Continent\n",
       "Africa           58.636500\n",
       "Asia             71.569000\n",
       "Europe           79.063415\n",
       "North America    72.403500\n",
       "Oceania          68.347000\n",
       "South America    73.779000\n",
       "Name: Life_Expectancy, dtype: float64"
      ]
     },
     "execution_count": 61,
     "metadata": {},
     "output_type": "execute_result"
    }
   ],
   "source": [
    "#select the values for all continents for the year 2010\n",
    "gdp_le_med.loc['2010']"
   ]
  },
  {
   "cell_type": "code",
   "execution_count": 62,
   "id": "3aca3f99-ae90-48b4-9903-53969e335a89",
   "metadata": {},
   "outputs": [
    {
     "data": {
      "text/plain": [
       "Year\n",
       "1990    65.736500\n",
       "1991    67.040110\n",
       "1992    66.727720\n",
       "1993    66.426841\n",
       "1994    66.197000\n",
       "1995    66.962000\n",
       "1996    67.734000\n",
       "1997    68.517000\n",
       "1998    69.303000\n",
       "1999    70.157000\n",
       "2000    69.428268\n",
       "2001    69.228659\n",
       "2002    69.518049\n",
       "2003    69.611549\n",
       "2004    68.227329\n",
       "2005    70.213500\n",
       "2006    70.001500\n",
       "2007    70.306500\n",
       "2008    70.619500\n",
       "2009    69.907500\n",
       "2010    71.569000\n",
       "2011    71.850000\n",
       "2012    72.066500\n",
       "2013    72.429500\n",
       "2014    72.098000\n",
       "2015    73.300500\n",
       "2016    73.733000\n",
       "2017    74.106000\n",
       "2018    74.374500\n",
       "2019    74.734500\n",
       "2020    73.625500\n",
       "2021    73.049000\n",
       "2022    74.778000\n",
       "2023    74.537000\n",
       "Name: Life_Expectancy, dtype: float64"
      ]
     },
     "execution_count": 62,
     "metadata": {},
     "output_type": "execute_result"
    }
   ],
   "source": [
    "#select the median life expectancy for Asia across all years. Hint: One way to do this is to use the swaplevels method\n",
    "gdp_le_med_swapped = gdp_le_med.swaplevel('Year', 'Continent')\n",
    "gdp_le_med_swapped.loc['Asia']"
   ]
  },
  {
   "cell_type": "markdown",
   "id": "0fa9f9f3-dd48-4544-989c-d42b157b87ab",
   "metadata": {},
   "source": [
    "Group gdp_le by both Year and Continent and find the min, median, and max values for both gdp per capita and life expectancy. Hint: You may want to use the agg method. \\\n",
    "a. Look at the columns of the resulting object. What do you notice? \\\n",
    "b. Select the median gdp per capita value for Asia in 2010."
   ]
  },
  {
   "cell_type": "code",
   "execution_count": 82,
   "id": "aa60ffab-df70-497f-95ae-b3b6ee77b3bf",
   "metadata": {},
   "outputs": [
    {
     "data": {
      "text/html": [
       "<div>\n",
       "<style scoped>\n",
       "    .dataframe tbody tr th:only-of-type {\n",
       "        vertical-align: middle;\n",
       "    }\n",
       "\n",
       "    .dataframe tbody tr th {\n",
       "        vertical-align: top;\n",
       "    }\n",
       "\n",
       "    .dataframe thead tr th {\n",
       "        text-align: left;\n",
       "    }\n",
       "\n",
       "    .dataframe thead tr:last-of-type th {\n",
       "        text-align: right;\n",
       "    }\n",
       "</style>\n",
       "<table border=\"1\" class=\"dataframe\">\n",
       "  <thead>\n",
       "    <tr>\n",
       "      <th></th>\n",
       "      <th></th>\n",
       "      <th colspan=\"3\" halign=\"left\">GDP_Per_Capita</th>\n",
       "      <th colspan=\"3\" halign=\"left\">Life_Expectancy</th>\n",
       "    </tr>\n",
       "    <tr>\n",
       "      <th></th>\n",
       "      <th></th>\n",
       "      <th>min</th>\n",
       "      <th>median</th>\n",
       "      <th>max</th>\n",
       "      <th>min</th>\n",
       "      <th>median</th>\n",
       "      <th>max</th>\n",
       "    </tr>\n",
       "    <tr>\n",
       "      <th>Year</th>\n",
       "      <th>Continent</th>\n",
       "      <th></th>\n",
       "      <th></th>\n",
       "      <th></th>\n",
       "      <th></th>\n",
       "      <th></th>\n",
       "      <th></th>\n",
       "    </tr>\n",
       "  </thead>\n",
       "  <tbody>\n",
       "    <tr>\n",
       "      <th rowspan=\"5\" valign=\"top\">1990</th>\n",
       "      <th>Africa</th>\n",
       "      <td>547.622781</td>\n",
       "      <td>2431.892671</td>\n",
       "      <td>23884.810700</td>\n",
       "      <td>37.644</td>\n",
       "      <td>53.684000</td>\n",
       "      <td>69.404878</td>\n",
       "    </tr>\n",
       "    <tr>\n",
       "      <th>Asia</th>\n",
       "      <td>775.328254</td>\n",
       "      <td>7113.819734</td>\n",
       "      <td>108057.042464</td>\n",
       "      <td>45.185</td>\n",
       "      <td>65.736500</td>\n",
       "      <td>78.837073</td>\n",
       "    </tr>\n",
       "    <tr>\n",
       "      <th>Europe</th>\n",
       "      <td>2411.112898</td>\n",
       "      <td>26110.299835</td>\n",
       "      <td>80947.492013</td>\n",
       "      <td>62.750</td>\n",
       "      <td>74.370671</td>\n",
       "      <td>78.961000</td>\n",
       "    </tr>\n",
       "    <tr>\n",
       "      <th>North America</th>\n",
       "      <td>3946.365646</td>\n",
       "      <td>10957.760919</td>\n",
       "      <td>79109.890650</td>\n",
       "      <td>53.215</td>\n",
       "      <td>70.471000</td>\n",
       "      <td>77.436585</td>\n",
       "    </tr>\n",
       "    <tr>\n",
       "      <th>Oceania</th>\n",
       "      <td>2213.539539</td>\n",
       "      <td>3990.926713</td>\n",
       "      <td>36182.384132</td>\n",
       "      <td>59.102</td>\n",
       "      <td>65.056000</td>\n",
       "      <td>76.994634</td>\n",
       "    </tr>\n",
       "    <tr>\n",
       "      <th>...</th>\n",
       "      <th>...</th>\n",
       "      <td>...</td>\n",
       "      <td>...</td>\n",
       "      <td>...</td>\n",
       "      <td>...</td>\n",
       "      <td>...</td>\n",
       "      <td>...</td>\n",
       "    </tr>\n",
       "    <tr>\n",
       "      <th rowspan=\"5\" valign=\"top\">2023</th>\n",
       "      <th>Asia</th>\n",
       "      <td>1992.424394</td>\n",
       "      <td>15056.373386</td>\n",
       "      <td>127543.554752</td>\n",
       "      <td>65.170</td>\n",
       "      <td>74.537000</td>\n",
       "      <td>85.247317</td>\n",
       "    </tr>\n",
       "    <tr>\n",
       "      <th>Europe</th>\n",
       "      <td>13642.676957</td>\n",
       "      <td>43585.119424</td>\n",
       "      <td>130373.477942</td>\n",
       "      <td>71.198</td>\n",
       "      <td>80.541463</td>\n",
       "      <td>84.056098</td>\n",
       "    </tr>\n",
       "    <tr>\n",
       "      <th>North America</th>\n",
       "      <td>2956.462137</td>\n",
       "      <td>22480.975259</td>\n",
       "      <td>98041.688721</td>\n",
       "      <td>64.936</td>\n",
       "      <td>74.333500</td>\n",
       "      <td>82.309000</td>\n",
       "    </tr>\n",
       "    <tr>\n",
       "      <th>Oceania</th>\n",
       "      <td>2534.027563</td>\n",
       "      <td>6545.520915</td>\n",
       "      <td>60408.943368</td>\n",
       "      <td>62.109</td>\n",
       "      <td>68.292500</td>\n",
       "      <td>83.051220</td>\n",
       "    </tr>\n",
       "    <tr>\n",
       "      <th>South America</th>\n",
       "      <td>9843.970142</td>\n",
       "      <td>19018.239070</td>\n",
       "      <td>49315.160311</td>\n",
       "      <td>68.581</td>\n",
       "      <td>77.392000</td>\n",
       "      <td>81.167000</td>\n",
       "    </tr>\n",
       "  </tbody>\n",
       "</table>\n",
       "<p>204 rows × 6 columns</p>\n",
       "</div>"
      ],
      "text/plain": [
       "                   GDP_Per_Capita                               \\\n",
       "                              min        median            max   \n",
       "Year Continent                                                   \n",
       "1990 Africa            547.622781   2431.892671   23884.810700   \n",
       "     Asia              775.328254   7113.819734  108057.042464   \n",
       "     Europe           2411.112898  26110.299835   80947.492013   \n",
       "     North America    3946.365646  10957.760919   79109.890650   \n",
       "     Oceania          2213.539539   3990.926713   36182.384132   \n",
       "...                           ...           ...            ...   \n",
       "2023 Asia             1992.424394  15056.373386  127543.554752   \n",
       "     Europe          13642.676957  43585.119424  130373.477942   \n",
       "     North America    2956.462137  22480.975259   98041.688721   \n",
       "     Oceania          2534.027563   6545.520915   60408.943368   \n",
       "     South America    9843.970142  19018.239070   49315.160311   \n",
       "\n",
       "                   Life_Expectancy                        \n",
       "                               min     median        max  \n",
       "Year Continent                                            \n",
       "1990 Africa                 37.644  53.684000  69.404878  \n",
       "     Asia                   45.185  65.736500  78.837073  \n",
       "     Europe                 62.750  74.370671  78.961000  \n",
       "     North America          53.215  70.471000  77.436585  \n",
       "     Oceania                59.102  65.056000  76.994634  \n",
       "...                            ...        ...        ...  \n",
       "2023 Asia                   65.170  74.537000  85.247317  \n",
       "     Europe                 71.198  80.541463  84.056098  \n",
       "     North America          64.936  74.333500  82.309000  \n",
       "     Oceania                62.109  68.292500  83.051220  \n",
       "     South America          68.581  77.392000  81.167000  \n",
       "\n",
       "[204 rows x 6 columns]"
      ]
     },
     "execution_count": 82,
     "metadata": {},
     "output_type": "execute_result"
    }
   ],
   "source": [
    "gdp_le_agg=gdp_le.groupby(['Year','Continent']).agg({'GDP_Per_Capita': ['min', 'median','max'], 'Life_Expectancy': ['min','median','max']})\n",
    "gdp_le_agg"
   ]
  },
  {
   "cell_type": "code",
   "execution_count": 83,
   "id": "b6d496e1-192f-41c8-a46a-42b8fed313a7",
   "metadata": {},
   "outputs": [
    {
     "data": {
      "text/plain": [
       "MultiIndex([( 'GDP_Per_Capita',    'min'),\n",
       "            ( 'GDP_Per_Capita', 'median'),\n",
       "            ( 'GDP_Per_Capita',    'max'),\n",
       "            ('Life_Expectancy',    'min'),\n",
       "            ('Life_Expectancy', 'median'),\n",
       "            ('Life_Expectancy',    'max')],\n",
       "           )"
      ]
     },
     "execution_count": 83,
     "metadata": {},
     "output_type": "execute_result"
    }
   ],
   "source": [
    "gdp_le_agg.columns"
   ]
  },
  {
   "cell_type": "markdown",
   "id": "95a06922-942a-4a75-a5bb-69b8c07e85f2",
   "metadata": {},
   "source": [
    "*The columns of the resulting object are multi-indexed.*"
   ]
  },
  {
   "cell_type": "code",
   "execution_count": 86,
   "id": "9cd622e1-0248-4d56-958e-f018cc01fafd",
   "metadata": {},
   "outputs": [
    {
     "name": "stdout",
     "output_type": "stream",
     "text": [
      "10126.545111007494\n"
     ]
    }
   ],
   "source": [
    "print(gdp_le_agg.loc[('2010','Asia'),('GDP_Per_Capita','median')])"
   ]
  },
  {
   "cell_type": "markdown",
   "id": "30a6270f-6c64-4ccb-b928-ede5f3d0151d",
   "metadata": {},
   "source": [
    "In this question, we'll see how the median gdp per capita has changed over time. Start by creating a Series, gdp_median_per_year by grouping by the Year variable and calculating the median gdp per capita. \\\n",
    "a. Convert gdp_median_per_year to a DataFrame by using the reset_index method. \\\n",
    "b. The shift method will allow you to compare values across rows. Use this method to create a new column showing the change in gdp per capita since the prior year. \\\n",
    "c. How many times was there a drop in median gdp per capita from one year to the next?"
   ]
  },
  {
   "cell_type": "code",
   "execution_count": 89,
   "id": "7b88a629-66b7-4d38-b272-94ec9cba7c9c",
   "metadata": {},
   "outputs": [],
   "source": [
    "gdp_median_per_year=gdp_le.groupby('Year')['GDP_Per_Capita'].median()"
   ]
  },
  {
   "cell_type": "code",
   "execution_count": 90,
   "id": "4c10d1c9-2e7b-4f32-a118-3b4605f6f78a",
   "metadata": {},
   "outputs": [],
   "source": [
    "gdp_median_per_year=gdp_median_per_year.reset_index()"
   ]
  },
  {
   "cell_type": "code",
   "execution_count": 97,
   "id": "fe1a190e-fcf5-4cf0-a6ab-d755100de647",
   "metadata": {},
   "outputs": [],
   "source": [
    "gdp_median_per_year['Change_in_GDP']= gdp_median_per_year['GDP_Per_Capita'] - gdp_median_per_year['GDP_Per_Capita'].shift(periods=1)"
   ]
  },
  {
   "cell_type": "code",
   "execution_count": 104,
   "id": "fb74fca3-3e2e-45f9-ba2b-517567fd8fd7",
   "metadata": {},
   "outputs": [
    {
     "data": {
      "text/html": [
       "<div>\n",
       "<style scoped>\n",
       "    .dataframe tbody tr th:only-of-type {\n",
       "        vertical-align: middle;\n",
       "    }\n",
       "\n",
       "    .dataframe tbody tr th {\n",
       "        vertical-align: top;\n",
       "    }\n",
       "\n",
       "    .dataframe thead th {\n",
       "        text-align: right;\n",
       "    }\n",
       "</style>\n",
       "<table border=\"1\" class=\"dataframe\">\n",
       "  <thead>\n",
       "    <tr style=\"text-align: right;\">\n",
       "      <th></th>\n",
       "      <th>Year</th>\n",
       "      <th>GDP_Per_Capita</th>\n",
       "      <th>Change_in_GDP</th>\n",
       "    </tr>\n",
       "  </thead>\n",
       "  <tbody>\n",
       "    <tr>\n",
       "      <th>0</th>\n",
       "      <td>1990</td>\n",
       "      <td>8907.111220</td>\n",
       "      <td>NaN</td>\n",
       "    </tr>\n",
       "    <tr>\n",
       "      <th>1</th>\n",
       "      <td>1991</td>\n",
       "      <td>9084.996632</td>\n",
       "      <td>177.885413</td>\n",
       "    </tr>\n",
       "    <tr>\n",
       "      <th>2</th>\n",
       "      <td>1992</td>\n",
       "      <td>9081.540512</td>\n",
       "      <td>-3.456121</td>\n",
       "    </tr>\n",
       "    <tr>\n",
       "      <th>3</th>\n",
       "      <td>1993</td>\n",
       "      <td>9337.957201</td>\n",
       "      <td>256.416689</td>\n",
       "    </tr>\n",
       "    <tr>\n",
       "      <th>4</th>\n",
       "      <td>1994</td>\n",
       "      <td>8865.072704</td>\n",
       "      <td>-472.884497</td>\n",
       "    </tr>\n",
       "    <tr>\n",
       "      <th>5</th>\n",
       "      <td>1995</td>\n",
       "      <td>8936.778146</td>\n",
       "      <td>71.705443</td>\n",
       "    </tr>\n",
       "    <tr>\n",
       "      <th>6</th>\n",
       "      <td>1996</td>\n",
       "      <td>9306.982537</td>\n",
       "      <td>370.204390</td>\n",
       "    </tr>\n",
       "    <tr>\n",
       "      <th>7</th>\n",
       "      <td>1997</td>\n",
       "      <td>9727.281887</td>\n",
       "      <td>420.299350</td>\n",
       "    </tr>\n",
       "    <tr>\n",
       "      <th>8</th>\n",
       "      <td>1998</td>\n",
       "      <td>9884.916623</td>\n",
       "      <td>157.634736</td>\n",
       "    </tr>\n",
       "    <tr>\n",
       "      <th>9</th>\n",
       "      <td>1999</td>\n",
       "      <td>10435.398681</td>\n",
       "      <td>550.482058</td>\n",
       "    </tr>\n",
       "    <tr>\n",
       "      <th>10</th>\n",
       "      <td>2000</td>\n",
       "      <td>10579.135876</td>\n",
       "      <td>143.737195</td>\n",
       "    </tr>\n",
       "    <tr>\n",
       "      <th>11</th>\n",
       "      <td>2001</td>\n",
       "      <td>10862.704190</td>\n",
       "      <td>283.568314</td>\n",
       "    </tr>\n",
       "    <tr>\n",
       "      <th>12</th>\n",
       "      <td>2002</td>\n",
       "      <td>11024.857493</td>\n",
       "      <td>162.153303</td>\n",
       "    </tr>\n",
       "    <tr>\n",
       "      <th>13</th>\n",
       "      <td>2003</td>\n",
       "      <td>11047.790899</td>\n",
       "      <td>22.933405</td>\n",
       "    </tr>\n",
       "    <tr>\n",
       "      <th>14</th>\n",
       "      <td>2004</td>\n",
       "      <td>11323.698327</td>\n",
       "      <td>275.907429</td>\n",
       "    </tr>\n",
       "    <tr>\n",
       "      <th>15</th>\n",
       "      <td>2005</td>\n",
       "      <td>11961.585508</td>\n",
       "      <td>637.887181</td>\n",
       "    </tr>\n",
       "    <tr>\n",
       "      <th>16</th>\n",
       "      <td>2006</td>\n",
       "      <td>12900.111384</td>\n",
       "      <td>938.525876</td>\n",
       "    </tr>\n",
       "    <tr>\n",
       "      <th>17</th>\n",
       "      <td>2007</td>\n",
       "      <td>13583.081652</td>\n",
       "      <td>682.970268</td>\n",
       "    </tr>\n",
       "    <tr>\n",
       "      <th>18</th>\n",
       "      <td>2008</td>\n",
       "      <td>13633.326178</td>\n",
       "      <td>50.244525</td>\n",
       "    </tr>\n",
       "    <tr>\n",
       "      <th>19</th>\n",
       "      <td>2009</td>\n",
       "      <td>13480.904647</td>\n",
       "      <td>-152.421531</td>\n",
       "    </tr>\n",
       "    <tr>\n",
       "      <th>20</th>\n",
       "      <td>2010</td>\n",
       "      <td>13197.792750</td>\n",
       "      <td>-283.111896</td>\n",
       "    </tr>\n",
       "    <tr>\n",
       "      <th>21</th>\n",
       "      <td>2011</td>\n",
       "      <td>13067.603835</td>\n",
       "      <td>-130.188915</td>\n",
       "    </tr>\n",
       "    <tr>\n",
       "      <th>22</th>\n",
       "      <td>2012</td>\n",
       "      <td>13377.398815</td>\n",
       "      <td>309.794980</td>\n",
       "    </tr>\n",
       "    <tr>\n",
       "      <th>23</th>\n",
       "      <td>2013</td>\n",
       "      <td>13913.001825</td>\n",
       "      <td>535.603009</td>\n",
       "    </tr>\n",
       "    <tr>\n",
       "      <th>24</th>\n",
       "      <td>2014</td>\n",
       "      <td>14247.101002</td>\n",
       "      <td>334.099177</td>\n",
       "    </tr>\n",
       "    <tr>\n",
       "      <th>25</th>\n",
       "      <td>2015</td>\n",
       "      <td>14559.474378</td>\n",
       "      <td>312.373376</td>\n",
       "    </tr>\n",
       "    <tr>\n",
       "      <th>26</th>\n",
       "      <td>2016</td>\n",
       "      <td>15047.247695</td>\n",
       "      <td>487.773316</td>\n",
       "    </tr>\n",
       "    <tr>\n",
       "      <th>27</th>\n",
       "      <td>2017</td>\n",
       "      <td>15427.664189</td>\n",
       "      <td>380.416495</td>\n",
       "    </tr>\n",
       "    <tr>\n",
       "      <th>28</th>\n",
       "      <td>2018</td>\n",
       "      <td>16290.051648</td>\n",
       "      <td>862.387458</td>\n",
       "    </tr>\n",
       "    <tr>\n",
       "      <th>29</th>\n",
       "      <td>2019</td>\n",
       "      <td>16186.345253</td>\n",
       "      <td>-103.706395</td>\n",
       "    </tr>\n",
       "    <tr>\n",
       "      <th>30</th>\n",
       "      <td>2020</td>\n",
       "      <td>14991.660620</td>\n",
       "      <td>-1194.684633</td>\n",
       "    </tr>\n",
       "    <tr>\n",
       "      <th>31</th>\n",
       "      <td>2021</td>\n",
       "      <td>15683.884713</td>\n",
       "      <td>692.224093</td>\n",
       "    </tr>\n",
       "    <tr>\n",
       "      <th>32</th>\n",
       "      <td>2022</td>\n",
       "      <td>16557.640667</td>\n",
       "      <td>873.755954</td>\n",
       "    </tr>\n",
       "    <tr>\n",
       "      <th>33</th>\n",
       "      <td>2023</td>\n",
       "      <td>17420.251248</td>\n",
       "      <td>862.610580</td>\n",
       "    </tr>\n",
       "  </tbody>\n",
       "</table>\n",
       "</div>"
      ],
      "text/plain": [
       "    Year  GDP_Per_Capita  Change_in_GDP\n",
       "0   1990     8907.111220            NaN\n",
       "1   1991     9084.996632     177.885413\n",
       "2   1992     9081.540512      -3.456121\n",
       "3   1993     9337.957201     256.416689\n",
       "4   1994     8865.072704    -472.884497\n",
       "5   1995     8936.778146      71.705443\n",
       "6   1996     9306.982537     370.204390\n",
       "7   1997     9727.281887     420.299350\n",
       "8   1998     9884.916623     157.634736\n",
       "9   1999    10435.398681     550.482058\n",
       "10  2000    10579.135876     143.737195\n",
       "11  2001    10862.704190     283.568314\n",
       "12  2002    11024.857493     162.153303\n",
       "13  2003    11047.790899      22.933405\n",
       "14  2004    11323.698327     275.907429\n",
       "15  2005    11961.585508     637.887181\n",
       "16  2006    12900.111384     938.525876\n",
       "17  2007    13583.081652     682.970268\n",
       "18  2008    13633.326178      50.244525\n",
       "19  2009    13480.904647    -152.421531\n",
       "20  2010    13197.792750    -283.111896\n",
       "21  2011    13067.603835    -130.188915\n",
       "22  2012    13377.398815     309.794980\n",
       "23  2013    13913.001825     535.603009\n",
       "24  2014    14247.101002     334.099177\n",
       "25  2015    14559.474378     312.373376\n",
       "26  2016    15047.247695     487.773316\n",
       "27  2017    15427.664189     380.416495\n",
       "28  2018    16290.051648     862.387458\n",
       "29  2019    16186.345253    -103.706395\n",
       "30  2020    14991.660620   -1194.684633\n",
       "31  2021    15683.884713     692.224093\n",
       "32  2022    16557.640667     873.755954\n",
       "33  2023    17420.251248     862.610580"
      ]
     },
     "execution_count": 104,
     "metadata": {},
     "output_type": "execute_result"
    }
   ],
   "source": [
    "gdp_median_per_year"
   ]
  },
  {
   "cell_type": "code",
   "execution_count": 105,
   "id": "04adb123-2c39-4cc0-80a2-0eb6b000dcde",
   "metadata": {},
   "outputs": [
    {
     "name": "stdout",
     "output_type": "stream",
     "text": [
      "Between 1990 and 2023, GDP dropped from one year to the next 7 times.\n"
     ]
    }
   ],
   "source": [
    "gdp_drop=len(gdp_median_per_year[gdp_median_per_year['Change_in_GDP']<0])\n",
    "print(f'Between 1990 and 2023, GDP dropped from one year to the next {gdp_drop} times.')"
   ]
  },
  {
   "cell_type": "code",
   "execution_count": null,
   "id": "636ccc4d-b9ed-433f-872f-276728dbccd5",
   "metadata": {},
   "outputs": [],
   "source": []
  }
 ],
 "metadata": {
  "kernelspec": {
   "display_name": "Python [conda env:base] *",
   "language": "python",
   "name": "conda-base-py"
  },
  "language_info": {
   "codemirror_mode": {
    "name": "ipython",
    "version": 3
   },
   "file_extension": ".py",
   "mimetype": "text/x-python",
   "name": "python",
   "nbconvert_exporter": "python",
   "pygments_lexer": "ipython3",
   "version": "3.13.5"
  }
 },
 "nbformat": 4,
 "nbformat_minor": 5
}
