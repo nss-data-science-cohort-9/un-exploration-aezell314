{
 "cells": [
  {
   "cell_type": "markdown",
   "id": "19e6afa5-8523-4110-b114-ef4896c14000",
   "metadata": {},
   "source": [
    "# UN Data Exploration for NSS Data Science - Abigail Ezell"
   ]
  },
  {
   "cell_type": "markdown",
   "id": "ed1296a9-ec34-45a0-a6f2-504f7371d448",
   "metadata": {
    "jp-MarkdownHeadingCollapsed": true
   },
   "source": [
    "### 3. In the first cell of your notebook, import the required packages with their customary aliases as follows:"
   ]
  },
  {
   "cell_type": "code",
   "execution_count": 1,
   "id": "c212142e-0414-4082-a58c-808e28c6aaf5",
   "metadata": {},
   "outputs": [],
   "source": [
    "import pandas as pd\n",
    "import numpy as np\n",
    "import matplotlib.pyplot as plt\n",
    "import seaborn as sns"
   ]
  },
  {
   "cell_type": "markdown",
   "id": "258bfc7d-48e7-48d4-9ef0-569a2a421146",
   "metadata": {
    "jp-MarkdownHeadingCollapsed": true
   },
   "source": [
    "### 4. Using the pandas read_csv() function, read the GDP dataset into your notebook as a DataFrame called gdp_df. After reading it in, inspect the first 10 rows and then inspect the last 10 rows."
   ]
  },
  {
   "cell_type": "code",
   "execution_count": 2,
   "id": "37267082-83a2-4524-8834-15240e1bbee1",
   "metadata": {},
   "outputs": [],
   "source": [
    "gdp_df=pd.read_csv(\"../data/gdp_per_capita.csv\")"
   ]
  },
  {
   "cell_type": "code",
   "execution_count": 3,
   "id": "8a12b59a-d6a8-422b-86b3-a2a74e4be3c6",
   "metadata": {},
   "outputs": [
    {
     "data": {
      "text/html": [
       "<div>\n",
       "<style scoped>\n",
       "    .dataframe tbody tr th:only-of-type {\n",
       "        vertical-align: middle;\n",
       "    }\n",
       "\n",
       "    .dataframe tbody tr th {\n",
       "        vertical-align: top;\n",
       "    }\n",
       "\n",
       "    .dataframe thead th {\n",
       "        text-align: right;\n",
       "    }\n",
       "</style>\n",
       "<table border=\"1\" class=\"dataframe\">\n",
       "  <thead>\n",
       "    <tr style=\"text-align: right;\">\n",
       "      <th></th>\n",
       "      <th>Country or Area</th>\n",
       "      <th>Year</th>\n",
       "      <th>Value</th>\n",
       "      <th>Value Footnotes</th>\n",
       "    </tr>\n",
       "  </thead>\n",
       "  <tbody>\n",
       "    <tr>\n",
       "      <th>0</th>\n",
       "      <td>Afghanistan</td>\n",
       "      <td>2023</td>\n",
       "      <td>1992.424394</td>\n",
       "      <td>NaN</td>\n",
       "    </tr>\n",
       "    <tr>\n",
       "      <th>1</th>\n",
       "      <td>Afghanistan</td>\n",
       "      <td>2022</td>\n",
       "      <td>1981.710168</td>\n",
       "      <td>NaN</td>\n",
       "    </tr>\n",
       "    <tr>\n",
       "      <th>2</th>\n",
       "      <td>Afghanistan</td>\n",
       "      <td>2021</td>\n",
       "      <td>2144.166570</td>\n",
       "      <td>NaN</td>\n",
       "    </tr>\n",
       "    <tr>\n",
       "      <th>3</th>\n",
       "      <td>Afghanistan</td>\n",
       "      <td>2020</td>\n",
       "      <td>2769.685745</td>\n",
       "      <td>NaN</td>\n",
       "    </tr>\n",
       "    <tr>\n",
       "      <th>4</th>\n",
       "      <td>Afghanistan</td>\n",
       "      <td>2019</td>\n",
       "      <td>2927.245144</td>\n",
       "      <td>NaN</td>\n",
       "    </tr>\n",
       "    <tr>\n",
       "      <th>5</th>\n",
       "      <td>Afghanistan</td>\n",
       "      <td>2018</td>\n",
       "      <td>2902.392113</td>\n",
       "      <td>NaN</td>\n",
       "    </tr>\n",
       "    <tr>\n",
       "      <th>6</th>\n",
       "      <td>Afghanistan</td>\n",
       "      <td>2017</td>\n",
       "      <td>2952.998916</td>\n",
       "      <td>NaN</td>\n",
       "    </tr>\n",
       "    <tr>\n",
       "      <th>7</th>\n",
       "      <td>Afghanistan</td>\n",
       "      <td>2016</td>\n",
       "      <td>2958.785399</td>\n",
       "      <td>NaN</td>\n",
       "    </tr>\n",
       "    <tr>\n",
       "      <th>8</th>\n",
       "      <td>Afghanistan</td>\n",
       "      <td>2015</td>\n",
       "      <td>2967.692067</td>\n",
       "      <td>NaN</td>\n",
       "    </tr>\n",
       "    <tr>\n",
       "      <th>9</th>\n",
       "      <td>Afghanistan</td>\n",
       "      <td>2014</td>\n",
       "      <td>3017.942544</td>\n",
       "      <td>NaN</td>\n",
       "    </tr>\n",
       "  </tbody>\n",
       "</table>\n",
       "</div>"
      ],
      "text/plain": [
       "  Country or Area  Year        Value  Value Footnotes\n",
       "0     Afghanistan  2023  1992.424394              NaN\n",
       "1     Afghanistan  2022  1981.710168              NaN\n",
       "2     Afghanistan  2021  2144.166570              NaN\n",
       "3     Afghanistan  2020  2769.685745              NaN\n",
       "4     Afghanistan  2019  2927.245144              NaN\n",
       "5     Afghanistan  2018  2902.392113              NaN\n",
       "6     Afghanistan  2017  2952.998916              NaN\n",
       "7     Afghanistan  2016  2958.785399              NaN\n",
       "8     Afghanistan  2015  2967.692067              NaN\n",
       "9     Afghanistan  2014  3017.942544              NaN"
      ]
     },
     "execution_count": 3,
     "metadata": {},
     "output_type": "execute_result"
    }
   ],
   "source": [
    "gdp_df.head(n=10)"
   ]
  },
  {
   "cell_type": "code",
   "execution_count": 4,
   "id": "6ac21012-7b56-4f15-86b1-f4ba4258ef8a",
   "metadata": {},
   "outputs": [
    {
     "data": {
      "text/html": [
       "<div>\n",
       "<style scoped>\n",
       "    .dataframe tbody tr th:only-of-type {\n",
       "        vertical-align: middle;\n",
       "    }\n",
       "\n",
       "    .dataframe tbody tr th {\n",
       "        vertical-align: top;\n",
       "    }\n",
       "\n",
       "    .dataframe thead th {\n",
       "        text-align: right;\n",
       "    }\n",
       "</style>\n",
       "<table border=\"1\" class=\"dataframe\">\n",
       "  <thead>\n",
       "    <tr style=\"text-align: right;\">\n",
       "      <th></th>\n",
       "      <th>Country or Area</th>\n",
       "      <th>Year</th>\n",
       "      <th>Value</th>\n",
       "      <th>Value Footnotes</th>\n",
       "    </tr>\n",
       "  </thead>\n",
       "  <tbody>\n",
       "    <tr>\n",
       "      <th>8209</th>\n",
       "      <td>Zimbabwe</td>\n",
       "      <td>1999</td>\n",
       "      <td>4238.195198</td>\n",
       "      <td>NaN</td>\n",
       "    </tr>\n",
       "    <tr>\n",
       "      <th>8210</th>\n",
       "      <td>Zimbabwe</td>\n",
       "      <td>1998</td>\n",
       "      <td>4342.858177</td>\n",
       "      <td>NaN</td>\n",
       "    </tr>\n",
       "    <tr>\n",
       "      <th>8211</th>\n",
       "      <td>Zimbabwe</td>\n",
       "      <td>1997</td>\n",
       "      <td>4304.406272</td>\n",
       "      <td>NaN</td>\n",
       "    </tr>\n",
       "    <tr>\n",
       "      <th>8212</th>\n",
       "      <td>Zimbabwe</td>\n",
       "      <td>1996</td>\n",
       "      <td>4271.479930</td>\n",
       "      <td>NaN</td>\n",
       "    </tr>\n",
       "    <tr>\n",
       "      <th>8213</th>\n",
       "      <td>Zimbabwe</td>\n",
       "      <td>1995</td>\n",
       "      <td>3935.280057</td>\n",
       "      <td>NaN</td>\n",
       "    </tr>\n",
       "    <tr>\n",
       "      <th>8214</th>\n",
       "      <td>Zimbabwe</td>\n",
       "      <td>1994</td>\n",
       "      <td>3965.730986</td>\n",
       "      <td>NaN</td>\n",
       "    </tr>\n",
       "    <tr>\n",
       "      <th>8215</th>\n",
       "      <td>Zimbabwe</td>\n",
       "      <td>1993</td>\n",
       "      <td>3634.750494</td>\n",
       "      <td>NaN</td>\n",
       "    </tr>\n",
       "    <tr>\n",
       "      <th>8216</th>\n",
       "      <td>Zimbabwe</td>\n",
       "      <td>1992</td>\n",
       "      <td>3649.891947</td>\n",
       "      <td>NaN</td>\n",
       "    </tr>\n",
       "    <tr>\n",
       "      <th>8217</th>\n",
       "      <td>Zimbabwe</td>\n",
       "      <td>1991</td>\n",
       "      <td>4126.405247</td>\n",
       "      <td>NaN</td>\n",
       "    </tr>\n",
       "    <tr>\n",
       "      <th>8218</th>\n",
       "      <td>Zimbabwe</td>\n",
       "      <td>1990</td>\n",
       "      <td>4013.299059</td>\n",
       "      <td>NaN</td>\n",
       "    </tr>\n",
       "  </tbody>\n",
       "</table>\n",
       "</div>"
      ],
      "text/plain": [
       "     Country or Area  Year        Value  Value Footnotes\n",
       "8209        Zimbabwe  1999  4238.195198              NaN\n",
       "8210        Zimbabwe  1998  4342.858177              NaN\n",
       "8211        Zimbabwe  1997  4304.406272              NaN\n",
       "8212        Zimbabwe  1996  4271.479930              NaN\n",
       "8213        Zimbabwe  1995  3935.280057              NaN\n",
       "8214        Zimbabwe  1994  3965.730986              NaN\n",
       "8215        Zimbabwe  1993  3634.750494              NaN\n",
       "8216        Zimbabwe  1992  3649.891947              NaN\n",
       "8217        Zimbabwe  1991  4126.405247              NaN\n",
       "8218        Zimbabwe  1990  4013.299059              NaN"
      ]
     },
     "execution_count": 4,
     "metadata": {},
     "output_type": "execute_result"
    }
   ],
   "source": [
    "gdp_df.tail(n=10)"
   ]
  },
  {
   "cell_type": "markdown",
   "id": "4556a58d-47b3-493e-b597-4ad0104adc44",
   "metadata": {
    "jp-MarkdownHeadingCollapsed": true
   },
   "source": [
    "### 5. Dropping the 'Value Footnotes' column, and rename the remaining columns to 'Country', 'Year', and 'GDP_Per_Capita'."
   ]
  },
  {
   "cell_type": "code",
   "execution_count": 5,
   "id": "6792bd9c-fa08-40f2-b376-77fdafdc69f6",
   "metadata": {},
   "outputs": [],
   "source": [
    "gdp_df = (\n",
    "    gdp_df\n",
    "    .drop(columns='Value Footnotes')\n",
    "    .rename(columns={'Country or Area':'Country','Value':'GDP_Per_Capita'})\n",
    ")"
   ]
  },
  {
   "cell_type": "code",
   "execution_count": 6,
   "id": "c8ee026d-8346-46e5-a7bc-f89cc0883627",
   "metadata": {
    "scrolled": true
   },
   "outputs": [
    {
     "data": {
      "text/plain": [
       "(8219, 3)"
      ]
     },
     "execution_count": 6,
     "metadata": {},
     "output_type": "execute_result"
    }
   ],
   "source": [
    "gdp_df.shape"
   ]
  },
  {
   "cell_type": "markdown",
   "id": "f27a432c-70a2-4afc-975b-72fca252f0b2",
   "metadata": {},
   "source": [
    "*There are 8,219 rows and 3 columns in gdp_df*"
   ]
  },
  {
   "cell_type": "code",
   "execution_count": 7,
   "id": "7c1b19cd-717c-44c6-be49-a90c45b5e748",
   "metadata": {},
   "outputs": [
    {
     "data": {
      "text/plain": [
       "Country            object\n",
       "Year                int64\n",
       "GDP_Per_Capita    float64\n",
       "dtype: object"
      ]
     },
     "execution_count": 7,
     "metadata": {},
     "output_type": "execute_result"
    }
   ],
   "source": [
    "gdp_df.dtypes"
   ]
  },
  {
   "cell_type": "markdown",
   "id": "9eef4afd-c7ff-4a14-8945-e7f4f614b60b",
   "metadata": {},
   "source": [
    "*The data type for Year is integer, the data type for GDP is float, and the data type for the 'Country' column is 'object', which is the pandas datatype used for text or mixed numeric and non-numeric values. To explicitly convert the countries data to the string data type, we could run the following:*"
   ]
  },
  {
   "cell_type": "code",
   "execution_count": 8,
   "id": "f27b09e2-7ccc-4f97-bcb9-c4000b586d98",
   "metadata": {},
   "outputs": [
    {
     "name": "stdout",
     "output_type": "stream",
     "text": [
      "string\n"
     ]
    }
   ],
   "source": [
    "gdp_df['Country'] = gdp_df['Country'].astype(\"string\")\n",
    "# Validate Country data was converted to string\n",
    "print(gdp_df['Country'].dtype)"
   ]
  },
  {
   "cell_type": "markdown",
   "id": "809ce15d-47d8-412e-95a7-4bf0e3204534",
   "metadata": {},
   "source": [
    "### 6. How many rows and columns does gdp_df have? What are the data types of its columns? If any of the columns are not the expected types, figure out why and fix it."
   ]
  },
  {
   "cell_type": "markdown",
   "id": "b52e47a4-b598-44bf-ba34-2fb67986aa32",
   "metadata": {
    "jp-MarkdownHeadingCollapsed": true
   },
   "source": [
    "### 7. Which years are represented in this dataset? Take a look at the number of observations per year. What do you notice?"
   ]
  },
  {
   "cell_type": "code",
   "execution_count": 9,
   "id": "42c0f028-4d28-4278-8991-97ecbd08f3b6",
   "metadata": {},
   "outputs": [
    {
     "data": {
      "text/plain": [
       "array([2023, 2022, 2021, 2020, 2019, 2018, 2017, 2016, 2015, 2014, 2013,\n",
       "       2012, 2011, 2010, 2009, 2008, 2007, 2006, 2005, 2004, 2003, 2002,\n",
       "       2001, 2000, 1999, 1998, 1997, 1996, 1995, 1994, 1993, 1992, 1991,\n",
       "       1990])"
      ]
     },
     "execution_count": 9,
     "metadata": {},
     "output_type": "execute_result"
    }
   ],
   "source": [
    "gdp_df['Year'].unique()"
   ]
  },
  {
   "cell_type": "markdown",
   "id": "b8749be3-0097-40d9-a32a-95b395943a22",
   "metadata": {},
   "source": [
    "*The dataset contains data from 1990 to 2023.*"
   ]
  },
  {
   "cell_type": "code",
   "execution_count": 10,
   "id": "7b8efe30-1c24-409f-b7ab-f9931f6bb0d1",
   "metadata": {},
   "outputs": [
    {
     "data": {
      "text/plain": [
       "Year\n",
       "2021    247\n",
       "2020    247\n",
       "2019    247\n",
       "2018    247\n",
       "2017    247\n",
       "2016    247\n",
       "2015    247\n",
       "2014    247\n",
       "2013    247\n",
       "2012    246\n",
       "2022    246\n",
       "2011    246\n",
       "2010    245\n",
       "2009    245\n",
       "2008    244\n",
       "2007    242\n",
       "2006    242\n",
       "2005    241\n",
       "2004    241\n",
       "2003    241\n",
       "2002    241\n",
       "2000    240\n",
       "2023    240\n",
       "2001    240\n",
       "1999    238\n",
       "1998    238\n",
       "1997    238\n",
       "1996    236\n",
       "1995    236\n",
       "1994    235\n",
       "1993    234\n",
       "1992    234\n",
       "1991    234\n",
       "1990    233\n",
       "Name: count, dtype: int64"
      ]
     },
     "execution_count": 10,
     "metadata": {},
     "output_type": "execute_result"
    }
   ],
   "source": [
    "gdp_df['Year'].value_counts()"
   ]
  },
  {
   "cell_type": "markdown",
   "id": "8a725301-0636-4057-8a30-4771a84ddafe",
   "metadata": {},
   "source": [
    "*There are generally more observations as the years increase, indicating the addition of new countries over the years.*"
   ]
  },
  {
   "cell_type": "markdown",
   "id": "5999c269-83c4-4907-ab78-71a2ef70dc2f",
   "metadata": {
    "jp-MarkdownHeadingCollapsed": true
   },
   "source": [
    "### 8. How many countries are represented in this dataset? Which countries are least represented in the dataset? Why do you think these countries have so few observations?"
   ]
  },
  {
   "cell_type": "code",
   "execution_count": 11,
   "id": "1e46c12b-8ad7-452f-b641-56cc4010ce19",
   "metadata": {},
   "outputs": [
    {
     "data": {
      "text/plain": [
       "<StringArray>\n",
       "[                'Afghanistan', 'Africa Eastern and Southern',\n",
       "  'Africa Western and Central',                     'Albania',\n",
       "                     'Algeria',                     'Andorra',\n",
       "                      'Angola',         'Antigua and Barbuda',\n",
       "                  'Arab World',                   'Argentina',\n",
       " ...\n",
       "         'Upper middle income',                     'Uruguay',\n",
       "                  'Uzbekistan',                     'Vanuatu',\n",
       "                    'Viet Nam',              'Virgin Islands',\n",
       "          'West Bank and Gaza',                       'World',\n",
       "                      'Zambia',                    'Zimbabwe']\n",
       "Length: 247, dtype: string"
      ]
     },
     "execution_count": 11,
     "metadata": {},
     "output_type": "execute_result"
    }
   ],
   "source": [
    "gdp_df['Country'].unique()"
   ]
  },
  {
   "cell_type": "markdown",
   "id": "9ee32385-9986-47ad-8219-1121d00b4035",
   "metadata": {},
   "source": [
    "*There are 247 unique countries represented in the dataset.*"
   ]
  },
  {
   "cell_type": "code",
   "execution_count": 12,
   "id": "08b40702-0447-4cb8-b1a4-cb1d0ad4a944",
   "metadata": {},
   "outputs": [
    {
     "data": {
      "text/plain": [
       "Country\n",
       "Faroe Islands                16\n",
       "Kosovo                       16\n",
       "Sint Maarten (Dutch part)    15\n",
       "Turks and Caicos Islands     13\n",
       "Djibouti                     11\n",
       "Name: count, dtype: Int64"
      ]
     },
     "execution_count": 12,
     "metadata": {},
     "output_type": "execute_result"
    }
   ],
   "source": [
    "gdp_df['Country'].value_counts().tail()"
   ]
  },
  {
   "cell_type": "markdown",
   "id": "f205138a-2f2e-4e32-a4ef-a77126428e74",
   "metadata": {},
   "source": [
    "*I would assume Djibouti, Turks and Caicos, Sint Maarten, and Kosovo have the fewest observations either because they are relatively new countries, or because they are very small countries that might not have the resources to regularly gather GDP data.*"
   ]
  },
  {
   "cell_type": "markdown",
   "id": "eb393de2-f8c6-4d17-8281-26d4314c03ad",
   "metadata": {},
   "source": [
    "### 9. Create a new dataframe by subsetting gdp_df to just the year 2021. Call this new dataframe gdp_2021."
   ]
  },
  {
   "cell_type": "code",
   "execution_count": 13,
   "id": "34d586e8-0948-445f-9e49-d32c6eb09bdf",
   "metadata": {},
   "outputs": [],
   "source": [
    "gdp_2021 = gdp_df[ gdp_df['Year'] == 2021 ]"
   ]
  },
  {
   "cell_type": "markdown",
   "id": "d04a2cf2-35d2-4747-94a0-7bd690119a45",
   "metadata": {},
   "source": [
    "### 10. Use .describe() to find the summary statistics for GDP per capita in 2021."
   ]
  },
  {
   "cell_type": "code",
   "execution_count": 14,
   "id": "eea7598f-77fc-4d7f-98bd-10ba88d412d1",
   "metadata": {},
   "outputs": [
    {
     "data": {
      "text/plain": [
       "count       247.000000\n",
       "mean      24478.517262\n",
       "std       24601.525764\n",
       "min         836.665571\n",
       "25%        5996.532844\n",
       "50%       15900.976581\n",
       "75%       37298.776853\n",
       "max      135379.291201\n",
       "Name: GDP_Per_Capita, dtype: float64"
      ]
     },
     "execution_count": 14,
     "metadata": {},
     "output_type": "execute_result"
    }
   ],
   "source": [
    "gdp_2021['GDP_Per_Capita'].describe()"
   ]
  },
  {
   "cell_type": "markdown",
   "id": "fff68ebe-79ee-48b5-9075-64850ef5a45e",
   "metadata": {},
   "source": [
    "### 11. Create a histogram of GDP Per Capita numbers for 2021 (you may wish to adjust the number of bins for your histogram). How would you describe the shape of the distribution?"
   ]
  },
  {
   "cell_type": "code",
   "execution_count": 15,
   "id": "58916488-fe85-45e7-8da8-6de732e04a47",
   "metadata": {},
   "outputs": [
    {
     "data": {
      "image/png": "[encoded data removed]",
      "text/plain": [
       "<Figure size 640x480 with 1 Axes>"
      ]
     },
     "metadata": {},
     "output_type": "display_data"
    }
   ],
   "source": [
    "gdp_2021[\"GDP_Per_Capita\"].hist(bins=30)\n",
    "plt.title('World GDP Per Capita in 2021')\n",
    "plt.xlabel('GDP Per Capita (PPP)')\n",
    "plt.ylabel('Country Count')\n",
    "plt.show()"
   ]
  },
  {
   "cell_type": "markdown",
   "id": "3006f855-939e-455b-95a6-745d9a975811",
   "metadata": {},
   "source": [
    "*The distribution has a pronounced right skew, with a relatively small number of countries having a very large GDP per capita. The frequency peaks in the leftmost bin of the histogram, around 0-10,000 GDP per capita.*"
   ]
  },
  {
   "cell_type": "markdown",
   "id": "68af5aa9-ff6b-498d-9e15-4632b6137e35",
   "metadata": {
    "jp-MarkdownHeadingCollapsed": true
   },
   "source": [
    "### 12. Find the top 5 countries and bottom 5 countries by GDP per capita in 2021."
   ]
  },
  {
   "cell_type": "code",
   "execution_count": 16,
   "id": "f42b31ce-4ee4-42e9-844f-1f7b31365ccc",
   "metadata": {},
   "outputs": [
    {
     "data": {
      "text/html": [
       "<div>\n",
       "<style scoped>\n",
       "    .dataframe tbody tr th:only-of-type {\n",
       "        vertical-align: middle;\n",
       "    }\n",
       "\n",
       "    .dataframe tbody tr th {\n",
       "        vertical-align: top;\n",
       "    }\n",
       "\n",
       "    .dataframe thead th {\n",
       "        text-align: right;\n",
       "    }\n",
       "</style>\n",
       "<table border=\"1\" class=\"dataframe\">\n",
       "  <thead>\n",
       "    <tr style=\"text-align: right;\">\n",
       "      <th></th>\n",
       "      <th>Country</th>\n",
       "      <th>Year</th>\n",
       "      <th>GDP_Per_Capita</th>\n",
       "    </tr>\n",
       "  </thead>\n",
       "  <tbody>\n",
       "    <tr>\n",
       "      <th>740</th>\n",
       "      <td>Bermuda</td>\n",
       "      <td>2021</td>\n",
       "      <td>92276.234605</td>\n",
       "    </tr>\n",
       "    <tr>\n",
       "      <th>6118</th>\n",
       "      <td>Qatar</td>\n",
       "      <td>2021</td>\n",
       "      <td>116832.570290</td>\n",
       "    </tr>\n",
       "    <tr>\n",
       "      <th>3492</th>\n",
       "      <td>Ireland</td>\n",
       "      <td>2021</td>\n",
       "      <td>118594.746862</td>\n",
       "    </tr>\n",
       "    <tr>\n",
       "      <th>6513</th>\n",
       "      <td>Singapore</td>\n",
       "      <td>2021</td>\n",
       "      <td>131864.092336</td>\n",
       "    </tr>\n",
       "    <tr>\n",
       "      <th>4425</th>\n",
       "      <td>Luxembourg</td>\n",
       "      <td>2021</td>\n",
       "      <td>135379.291201</td>\n",
       "    </tr>\n",
       "  </tbody>\n",
       "</table>\n",
       "</div>"
      ],
      "text/plain": [
       "         Country  Year  GDP_Per_Capita\n",
       "740      Bermuda  2021    92276.234605\n",
       "6118       Qatar  2021   116832.570290\n",
       "3492     Ireland  2021   118594.746862\n",
       "6513   Singapore  2021   131864.092336\n",
       "4425  Luxembourg  2021   135379.291201"
      ]
     },
     "execution_count": 16,
     "metadata": {},
     "output_type": "execute_result"
    }
   ],
   "source": [
    "# Top 5 countries by GDP per capita in 2021\n",
    "gdp_2021.sort_values(by='GDP_Per_Capita').tail()"
   ]
  },
  {
   "cell_type": "code",
   "execution_count": 17,
   "id": "c03e78a4-4662-4454-8563-327a3f5aacf7",
   "metadata": {},
   "outputs": [
    {
     "data": {
      "text/html": [
       "<div>\n",
       "<style scoped>\n",
       "    .dataframe tbody tr th:only-of-type {\n",
       "        vertical-align: middle;\n",
       "    }\n",
       "\n",
       "    .dataframe tbody tr th {\n",
       "        vertical-align: top;\n",
       "    }\n",
       "\n",
       "    .dataframe thead th {\n",
       "        text-align: right;\n",
       "    }\n",
       "</style>\n",
       "<table border=\"1\" class=\"dataframe\">\n",
       "  <thead>\n",
       "    <tr style=\"text-align: right;\">\n",
       "      <th></th>\n",
       "      <th>Country</th>\n",
       "      <th>Year</th>\n",
       "      <th>GDP_Per_Capita</th>\n",
       "    </tr>\n",
       "  </thead>\n",
       "  <tbody>\n",
       "    <tr>\n",
       "      <th>1045</th>\n",
       "      <td>Burundi</td>\n",
       "      <td>2021</td>\n",
       "      <td>836.665571</td>\n",
       "    </tr>\n",
       "    <tr>\n",
       "      <th>1301</th>\n",
       "      <td>Central African Republic</td>\n",
       "      <td>2021</td>\n",
       "      <td>1128.552380</td>\n",
       "    </tr>\n",
       "    <tr>\n",
       "      <th>1733</th>\n",
       "      <td>Dem. Rep. Congo</td>\n",
       "      <td>2021</td>\n",
       "      <td>1313.618218</td>\n",
       "    </tr>\n",
       "    <tr>\n",
       "      <th>6698</th>\n",
       "      <td>Somalia</td>\n",
       "      <td>2021</td>\n",
       "      <td>1392.464262</td>\n",
       "    </tr>\n",
       "    <tr>\n",
       "      <th>5132</th>\n",
       "      <td>Mozambique</td>\n",
       "      <td>2021</td>\n",
       "      <td>1457.235409</td>\n",
       "    </tr>\n",
       "  </tbody>\n",
       "</table>\n",
       "</div>"
      ],
      "text/plain": [
       "                       Country  Year  GDP_Per_Capita\n",
       "1045                   Burundi  2021      836.665571\n",
       "1301  Central African Republic  2021     1128.552380\n",
       "1733           Dem. Rep. Congo  2021     1313.618218\n",
       "6698                   Somalia  2021     1392.464262\n",
       "5132                Mozambique  2021     1457.235409"
      ]
     },
     "execution_count": 17,
     "metadata": {},
     "output_type": "execute_result"
    }
   ],
   "source": [
    "# Bottom 5 countries by GDP per capita in 2021\n",
    "gdp_2021.sort_values(by='GDP_Per_Capita').head()"
   ]
  },
  {
   "cell_type": "markdown",
   "id": "6ceae19e-07b7-480b-a870-096fc518784a",
   "metadata": {
    "jp-MarkdownHeadingCollapsed": true
   },
   "source": [
    "### 13. Now, return to the full dataset, gdp_df. Pivot the data for 1990 and 2021 (using the pandas .pivot_table() method or another method) so that each row corresponds to a country, each column corresponds to a year, and the values in the table give the GDP_Per_Capita amount. Drop any rows that are missing values for either 1990 or 2021. Save the result to a dataframe named gdp_pivoted."
   ]
  },
  {
   "cell_type": "code",
   "execution_count": 18,
   "id": "d1b85aa5-643c-408d-af01-6d976dbcb44d",
   "metadata": {},
   "outputs": [],
   "source": [
    "gdp_pivoted = (\n",
    "    gdp_df[ (gdp_df['Year'] == 1990) | (gdp_df['Year'] == 2021) ]\n",
    "    .pivot_table(values='GDP_Per_Capita', index='Country', columns='Year')\n",
    "    .dropna()\n",
    ")"
   ]
  },
  {
   "cell_type": "markdown",
   "id": "4cae8c8b-1dbd-4a7e-ae9f-73228f470901",
   "metadata": {
    "jp-MarkdownHeadingCollapsed": true
   },
   "source": [
    "### 14. Create a new column in gdp_pivoted named Percent_Change. This column should contain the percent change in GDP_Per_Capita from 1990 to 2021. Hint: Percent change is calculated as 100*(New Value - Old Value) / Old Value."
   ]
  },
  {
   "cell_type": "code",
   "execution_count": 19,
   "id": "d4a30bb9-8405-4050-a0dc-0469336d88a4",
   "metadata": {},
   "outputs": [],
   "source": [
    "gdp_pivoted['Percent_Change']=100*(gdp_pivoted[2021] - gdp_pivoted[1990]) / gdp_pivoted[1990]"
   ]
  },
  {
   "cell_type": "markdown",
   "id": "bd7c6165-c9b2-4456-9150-6d353b273486",
   "metadata": {
    "jp-MarkdownHeadingCollapsed": true
   },
   "source": [
    "### 15. How many countries experienced a negative percent change in GDP per capita from 1990 to 2021?"
   ]
  },
  {
   "cell_type": "code",
   "execution_count": 20,
   "id": "896cd57d-825a-42dd-b192-08866c5c9afe",
   "metadata": {},
   "outputs": [
    {
     "name": "stdout",
     "output_type": "stream",
     "text": [
      "There were 23 countries that experienced a negative percent change in GDP per capita from 1990 to 2021.\n"
     ]
    }
   ],
   "source": [
    "neg_percent_change = len(gdp_pivoted[ gdp_pivoted['Percent_Change']<0 ])\n",
    "print(f'There were {neg_percent_change} countries that experienced a negative percent change in GDP per capita from 1990 to 2021.')"
   ]
  },
  {
   "cell_type": "markdown",
   "id": "31b831d9-1a70-4505-9b8f-41eba2b815cd",
   "metadata": {
    "jp-MarkdownHeadingCollapsed": true
   },
   "source": [
    "### 16. Which country had the highest % change in GDP per capita? Create a line plot showing this country's GDP per capita for all years from 1990 to 2018. Create another showing the country with the second highest % change in GDP. How do the trends in these countries compare? Bonus: Put both line charts on the same plot."
   ]
  },
  {
   "cell_type": "code",
   "execution_count": 21,
   "id": "383825d8-273b-4bd8-9049-61869719c99c",
   "metadata": {},
   "outputs": [
    {
     "name": "stdout",
     "output_type": "stream",
     "text": [
      "The country with the highest percent change in GDP per capita is Equatorial Guinea.\n",
      "The country with the second highest percent change in GDP per capita is China.\n"
     ]
    }
   ],
   "source": [
    "# Sort gdp_pivoted by the percent change column\n",
    "gdp_pivoted = gdp_pivoted.sort_values(by='Percent_Change')\n",
    "print('The country with the highest percent change in GDP per capita is ' + gdp_pivoted.iloc[-1].name + '.')\n",
    "print('The country with the second highest percent change in GDP per capita is ' + gdp_pivoted.iloc[-2].name + '.')"
   ]
  },
  {
   "cell_type": "code",
   "execution_count": 22,
   "id": "03b0e3e6-c8c2-4377-8b5c-a64ac61f48db",
   "metadata": {},
   "outputs": [
    {
     "data": {
      "image/png": "[encoded data removed]",
      "text/plain": [
       "<Figure size 640x480 with 1 Axes>"
      ]
     },
     "metadata": {},
     "output_type": "display_data"
    }
   ],
   "source": [
    "China_GDP_data=gdp_df[(gdp_df['Country'] == 'China')  \n",
    "        & ((gdp_df['Year'] >= 1990) & (gdp_df['Year']<=2021))]\n",
    "EG_GDP_data=gdp_df[(gdp_df['Country'] == 'Equatorial Guinea') \n",
    "        & ((gdp_df['Year'] >= 1990) & (gdp_df['Year']<=2021))]\n",
    "# Create the line plot\n",
    "ax=China_GDP_data.plot(x='Year',y='GDP_Per_Capita',kind='line',label=f'China (% change: {gdp_pivoted.loc['China','Percent_Change']:.2f})')\n",
    "EG_GDP_data.plot(x='Year',y='GDP_Per_Capita',kind='line', label=f'Equatorial Guinea (% change: {gdp_pivoted.loc['Equatorial Guinea','Percent_Change']:.2f})', ax=ax)\n",
    "plt.title('Change in GDP: China vs Equatorial Guinea')\n",
    "plt.xlabel('Year')\n",
    "plt.ylabel('GDP Per Capita (in thousands PPP)')\n",
    "plt.yticks([0,5000,10000,15000,20000,25000,30000,35000,40000,45000], [0,5,10,15,20,25,30,35,40,45])\n",
    "\n",
    "plt.show()"
   ]
  },
  {
   "cell_type": "markdown",
   "id": "51f189e4-2290-417a-b14e-ef6c6c7b4feb",
   "metadata": {},
   "source": [
    "*The GDP change in Equatorial Guinea is shaped like a curve; there was dramatic growth from 1995 to 2008, then a decline. In contrast, the GDP change in China showed steady growth from 1990 onward.*"
   ]
  },
  {
   "cell_type": "markdown",
   "id": "9539247a-c888-487b-9901-ac03d4a80644",
   "metadata": {},
   "source": [
    "### 17. Read in continents.csv contained in the data folder into a new dataframe called continents. We will be using this dataframe to add a new column to our dataset."
   ]
  },
  {
   "cell_type": "code",
   "execution_count": 23,
   "id": "c8377ed3-41f5-46c2-a0cc-6ffe9fd10830",
   "metadata": {},
   "outputs": [],
   "source": [
    "continents=pd.read_csv(\"../data/continents.csv\")"
   ]
  },
  {
   "cell_type": "markdown",
   "id": "2bfbc269-f685-439a-a9e5-d69cacda5b56",
   "metadata": {
    "jp-MarkdownHeadingCollapsed": true
   },
   "source": [
    "### 18. Merge gdp_df and continents. Keep only the countries that appear in both data frames. Save the result back to gdp_df."
   ]
  },
  {
   "cell_type": "code",
   "execution_count": 24,
   "id": "d2c52f10-7987-4c77-8ccc-85ba55e827bd",
   "metadata": {},
   "outputs": [],
   "source": [
    "gdp_df=gdp_df.merge(continents, how='inner', on='Country')"
   ]
  },
  {
   "cell_type": "markdown",
   "id": "1275fce0-83a3-4014-b06a-b6559268e50c",
   "metadata": {
    "jp-MarkdownHeadingCollapsed": true
   },
   "source": [
    "### 19. Determine the number of countries per continent. Create a bar chart showing this."
   ]
  },
  {
   "cell_type": "code",
   "execution_count": 25,
   "id": "3f7c326a-d8a4-41ac-831f-aab78544c3e1",
   "metadata": {},
   "outputs": [
    {
     "data": {
      "image/png": "[encoded data removed]",
      "text/plain": [
       "<Figure size 640x480 with 1 Axes>"
      ]
     },
     "metadata": {},
     "output_type": "display_data"
    }
   ],
   "source": [
    "countries_per_continent=continents['Continent'].value_counts()\n",
    "countries_per_continent.plot(kind='bar', rot=45)\n",
    "plt.title('Distribution of Countries by Continent')\n",
    "plt.xlabel('Continent')\n",
    "plt.ylabel('Country Count')\n",
    "plt.show()"
   ]
  },
  {
   "cell_type": "markdown",
   "id": "db6dc543-b858-4135-8206-08715475c9c6",
   "metadata": {
    "jp-MarkdownHeadingCollapsed": true
   },
   "source": [
    "### 20. Create a seaborn boxplot showing GDP per capita in 2021 split out by continent. What do you notice?"
   ]
  },
  {
   "cell_type": "code",
   "execution_count": 26,
   "id": "96581e6d-579a-4783-8bf3-af5826c44a55",
   "metadata": {},
   "outputs": [
    {
     "data": {
      "image/png": "[encoded data removed]",
      "text/plain": [
       "<Figure size 640x480 with 1 Axes>"
      ]
     },
     "metadata": {},
     "output_type": "display_data"
    }
   ],
   "source": [
    "# First get the data from gdp_df from just 2021, which contains continent data (while gdp_2021 does not)\n",
    "gdp_2021_by_continent = gdp_df[ gdp_df['Year'] == 2021 ]\n",
    "# Then create the boxplot of that data\n",
    "sns.boxplot(x=\"Continent\", y=\"GDP_Per_Capita\", data=gdp_2021_by_continent, color='green')\n",
    "plt.title('Distribution of 2021 GDP by Continent')\n",
    "plt.yticks([0,20000,40000,60000,80000,100000,120000,140000], [0,20,40,60,80,100,120,140])\n",
    "plt.xticks(rotation=45)\n",
    "plt.xlabel('Continent')\n",
    "plt.ylabel('GDP Per Capita (in thousands PPP)')\n",
    "plt.show()"
   ]
  },
  {
   "cell_type": "markdown",
   "id": "fe1f1592-95cd-488f-9899-9dba9ca7953b",
   "metadata": {},
   "source": [
    "*Based on the boxplot, Africa and Oceania have mostly low-GDP countries (20,000 PPP and below), while Europe has the highest proportion of countries with a GDP of 40,000+ PPP (about 50%). All continents, with the exception of South America, have 2-3 extreme outliers, representing countries with a very high GDP compared with other countries in the same continent. The GDP distribution for all continents is right-skewed, with the skew being more pronounced for some continents (Africa, Oceania, and Asia) and less pronounced for others (Europe, North America, and South America).*"
   ]
  },
  {
   "cell_type": "markdown",
   "id": "2ed62691-0b44-4b7c-9094-685902ce4942",
   "metadata": {},
   "source": [
    "### 21. Download the full csv containing Life expectancy at birth, total (years) from https://data.worldbank.org/indicator/SP.DYN.LE00.IN?name_desc=false. Read this data into a DataFrame named life_expectancy. Note: When reading this dataset it, you may encounter an error. Modify your read_csv call to correct this without modifying the original csv file."
   ]
  },
  {
   "cell_type": "code",
   "execution_count": 27,
   "id": "0ec66b96-6134-4c71-94e7-6800655e2924",
   "metadata": {},
   "outputs": [],
   "source": [
    "# Skip first 4 rows since they are headers\n",
    "life_expectancy=pd.read_csv(\"../data/API_SP.DYN.LE00.IN_DS2_en_csv_v2_22997.csv\",skiprows=4)"
   ]
  },
  {
   "cell_type": "markdown",
   "id": "6ea6d2b7-8185-4308-9f30-7095cbb26a96",
   "metadata": {
    "jp-MarkdownHeadingCollapsed": true
   },
   "source": [
    "### 22. Drop the Country Code, Indicator Name, and Indicator Code columns. Then use .melt() to convert your data from wide to long. That is, instead of having one row per country and multiple colums per year, we want to have multiple rows per country and a single column for year. After melting, rename the columns to Country, Year, and Life_Expectancy."
   ]
  },
  {
   "cell_type": "code",
   "execution_count": 28,
   "id": "be0f10fd-f725-4296-a273-ef7eb5ef6381",
   "metadata": {},
   "outputs": [],
   "source": [
    "life_expectancy = (\n",
    "    life_expectancy\n",
    "    .drop(columns=['Country Code', 'Indicator Name','Indicator Code'])\n",
    "    .melt(id_vars='Country Name')\n",
    "    .rename(columns={'Country Name':'Country','variable':'Year','value':'Life_Expectancy'})\n",
    ")"
   ]
  },
  {
   "cell_type": "markdown",
   "id": "234c49f7-476e-4d92-bf73-127201643e1d",
   "metadata": {
    "jp-MarkdownHeadingCollapsed": true
   },
   "source": [
    "### 23. What was the first country with a life expectancy to exceed 80?"
   ]
  },
  {
   "cell_type": "code",
   "execution_count": 29,
   "id": "826ca719-3fed-452d-b18b-0c68a0fae16f",
   "metadata": {},
   "outputs": [
    {
     "name": "stdout",
     "output_type": "stream",
     "text": [
      "The first country with a life expectancy to exceed 80 was Monaco in the year 1992. The life expectancy was 80.065.\n",
      "The second country with a life expectancy to exceed 80 was Andorra in the year 1993. The life expectancy was 80.186.\n"
     ]
    }
   ],
   "source": [
    "# Finding the minimum year that a life expectancy was greater than or equal to 80, along with the associated country\n",
    "high_le_sorted = life_expectancy[ life_expectancy['Life_Expectancy']>80 ].sort_values('Year')\n",
    "first_80_le_country = high_le_sorted.iloc[0,0]\n",
    "first_80_le_year = high_le_sorted.iloc[0,1]\n",
    "first_80_le_le = high_le_sorted.iloc[0,2]\n",
    "print(f'The first country with a life expectancy to exceed 80 was {first_80_le_country} in the year {first_80_le_year}. The life expectancy was {first_80_le_le}.')\n",
    "\n",
    "# Validating that there wasn't another country tied for the earliest year \n",
    "second_80_le_country = high_le_sorted.iloc[1,0]\n",
    "second_80_le_year = high_le_sorted.iloc[1,1]\n",
    "second_80_le_le = high_le_sorted.iloc[1,2]\n",
    "print(f'The second country with a life expectancy to exceed 80 was {second_80_le_country} in the year {second_80_le_year}. The life expectancy was {second_80_le_le}.')\n"
   ]
  },
  {
   "cell_type": "markdown",
   "id": "42e20d8f-8e93-4d6c-8215-64d6588650ca",
   "metadata": {},
   "source": [
    "### 24. Merge gdp_df and life_expectancy, keeping all countries and years that appear in both DataFrames. Save the result to a new DataFrame named gdp_le. If you get any errors in doing this, read them carefully and correct them. Look at the first five rows of your new data frame to confirm it merged correctly. Also, check the last five rows to make sure the data is clean and as expected."
   ]
  },
  {
   "cell_type": "code",
   "execution_count": 30,
   "id": "034e1fb3-77f0-4c7c-94b6-b2168b55ef64",
   "metadata": {},
   "outputs": [],
   "source": [
    "# The initial error indicates that the data types of the columns we're joining on doesn't match between the two dataframes. \n",
    "# I'll convert both 'Year' and 'Country' to string in both dataframes\n",
    "gdp_df['Year'] = gdp_df['Year'].astype(\"string\")\n",
    "life_expectancy['Year'] = life_expectancy['Year'].astype(\"string\")\n",
    "# I'll convert Country to string in life_expectancy\n",
    "life_expectancy['Country'] = life_expectancy['Country'].astype(\"string\")"
   ]
  },
  {
   "cell_type": "code",
   "execution_count": 31,
   "id": "48faf661-2d5d-4c51-9a4b-0d875e5275b4",
   "metadata": {},
   "outputs": [
    {
     "data": {
      "text/plain": [
       "Country                   object\n",
       "Year              string[python]\n",
       "GDP_Per_Capita           float64\n",
       "Continent                 object\n",
       "dtype: object"
      ]
     },
     "execution_count": 31,
     "metadata": {},
     "output_type": "execute_result"
    }
   ],
   "source": [
    "# Validate gdp_df and life_expectancy have matching data types for Country and Year\n",
    "gdp_df.dtypes"
   ]
  },
  {
   "cell_type": "code",
   "execution_count": 32,
   "id": "1a5afe7b-29ae-4619-98c8-59a367409a50",
   "metadata": {},
   "outputs": [
    {
     "data": {
      "text/plain": [
       "Country            string[python]\n",
       "Year               string[python]\n",
       "Life_Expectancy           float64\n",
       "dtype: object"
      ]
     },
     "execution_count": 32,
     "metadata": {},
     "output_type": "execute_result"
    }
   ],
   "source": [
    "life_expectancy.dtypes"
   ]
  },
  {
   "cell_type": "code",
   "execution_count": 33,
   "id": "fdf06733-72ed-402a-9997-ed606331cb19",
   "metadata": {},
   "outputs": [
    {
     "name": "stdout",
     "output_type": "stream",
     "text": [
      "          Country  Year  GDP_Per_Capita Continent  Life_Expectancy\n",
      "0     Afghanistan  2023     1992.424394      Asia           66.035\n",
      "1     Afghanistan  2022     1981.710168      Asia           65.617\n",
      "2     Afghanistan  2021     2144.166570      Asia           60.417\n",
      "3     Afghanistan  2020     2769.685745      Asia           61.454\n",
      "4     Afghanistan  2019     2927.245144      Asia           62.941\n",
      "...           ...   ...             ...       ...              ...\n",
      "5851     Zimbabwe  1994     3965.730986    Africa           52.537\n",
      "5852     Zimbabwe  1993     3634.750494    Africa           53.976\n",
      "5853     Zimbabwe  1992     3649.891947    Africa           55.602\n",
      "5854     Zimbabwe  1991     4126.405247    Africa           57.037\n",
      "5855     Zimbabwe  1990     4013.299059    Africa           58.319\n",
      "\n",
      "[5856 rows x 5 columns]\n"
     ]
    }
   ],
   "source": [
    "# Merge gdp_df and life_expectancy on country and year columns\n",
    "gdp_le=gdp_df.merge(life_expectancy, on=['Country','Year'], how='inner')\n",
    "# Merged dataframe was initially coming out as blank; checking to make sure there are no trailing or leading spaces\n",
    "gdp_df['Country']=gdp_df['Country'].str.strip()\n",
    "life_expectancy['Country']=life_expectancy['Country'].str.strip()\n",
    "gdp_df['Year']=gdp_df['Year'].str.strip()\n",
    "life_expectancy['Year']=life_expectancy['Year'].str.strip()\n",
    "print(gdp_le)"
   ]
  },
  {
   "cell_type": "markdown",
   "id": "4cd3b7bd-cb3d-4598-97eb-52eed6711d3a",
   "metadata": {},
   "source": [
    "### 25. Create a new DataFrame, named gdp_le_2021 by extracting data for the year 2021 from gdp_le. How many countries have a life expectancy of at least 80 in 2021?"
   ]
  },
  {
   "cell_type": "code",
   "execution_count": 34,
   "id": "f14ab25a-7e17-4be2-af62-887e78645c40",
   "metadata": {},
   "outputs": [
    {
     "name": "stdout",
     "output_type": "stream",
     "text": [
      "There were 33 countries with a life expectancy of at least 80 in 2021.\n"
     ]
    }
   ],
   "source": [
    "gdp_le_2021=gdp_le[gdp_le['Year']=='2021']\n",
    "print(f'There were {len(gdp_le_2021[gdp_le_2021['Life_Expectancy']>=80])} countries with a life expectancy of at least 80 in 2021.')"
   ]
  },
  {
   "cell_type": "markdown",
   "id": "accd991a-c56f-469d-b079-d5c97bc75af6",
   "metadata": {},
   "source": [
    "### 26. Find the countries that had the top 3 largest GDP per capita figures for 2021. Create a seaborn FacetGrid showing the change in life expectancy over time for these three countries. Each individual figure in the facet grid will represent a single country."
   ]
  },
  {
   "cell_type": "code",
   "execution_count": 35,
   "id": "00523f08-8cf0-4e70-9924-29d64fc3b278",
   "metadata": {},
   "outputs": [
    {
     "name": "stdout",
     "output_type": "stream",
     "text": [
      "The countries with the 3 largest GDP per capita figures for 2021 were Luxembourg, Singapore, and Ireland.\n"
     ]
    }
   ],
   "source": [
    "gdp_le_2021_sorted=gdp_le_2021.sort_values('GDP_Per_Capita')\n",
    "print(f'The countries with the 3 largest GDP per capita figures for 2021 were {gdp_le_2021_sorted.iloc[-1,0]}, {gdp_le_2021_sorted.iloc[-2,0]}, and {gdp_le_2021_sorted.iloc[-3,0]}.')"
   ]
  },
  {
   "cell_type": "code",
   "execution_count": 36,
   "id": "b309333e-93f1-4a82-9842-d965e35c470c",
   "metadata": {},
   "outputs": [
    {
     "data": {
      "image/png": "[encoded data removed]",
      "text/plain": [
       "<Figure size 900x300 with 3 Axes>"
      ]
     },
     "metadata": {},
     "output_type": "display_data"
    }
   ],
   "source": [
    "# Convert year to integer for plotting purposes\n",
    "gdp_le['Year'] = gdp_le['Year'].astype(\"int64\")\n",
    "# Slice the gdp_le dataframe to just our countries of interest\n",
    "high_GDP_le = gdp_le[\n",
    "    (gdp_le['Country']=='Singapore') \n",
    "    | (gdp_le['Country']=='Luxembourg') \n",
    "    | (gdp_le['Country']=='Ireland')]\n",
    "# Form a facetgrid using life expectancy for Luxembourg, Singapore, and Ireland\n",
    "le_plot = sns.FacetGrid(high_GDP_le, col ='Country')\n",
    "# Map the above facetgrid \n",
    "le_plot.map(sns.lineplot, 'Year','Life_Expectancy')\n",
    "le_plot.set_axis_labels(\"Year\", \"Life Expectancy (in years)\")\n",
    "le_plot.fig.subplots_adjust(top=0.8)\n",
    "le_plot.fig.suptitle('Life Expectancy over time for Large GDP Countries')\n",
    "# Show the object\n",
    "plt.show()"
   ]
  },
  {
   "cell_type": "markdown",
   "id": "7404fcbf-8030-4236-9e6f-f7d21c93a0c7",
   "metadata": {},
   "source": [
    "### 27. Create a scatter plot of Life Expectancy vs GDP per Capita for the year 2021. What do you notice?"
   ]
  },
  {
   "cell_type": "code",
   "execution_count": 37,
   "id": "85999d19-030a-4dbf-bce6-5258701aada3",
   "metadata": {},
   "outputs": [
    {
     "data": {
      "image/png": "[encoded data removed]",
      "text/plain": [
       "<Figure size 640x480 with 1 Axes>"
      ]
     },
     "metadata": {},
     "output_type": "display_data"
    }
   ],
   "source": [
    "gdp_le_2021.plot.scatter(x='Life_Expectancy', y='GDP_Per_Capita')\n",
    "plt.title('Life Expectancy vs GDP Per Capita in 2021')\n",
    "plt.xlabel('GDP Per Capita (PPP)')\n",
    "plt.ylabel('Life Expectancy (in years)')\n",
    "plt.show()"
   ]
  },
  {
   "cell_type": "markdown",
   "id": "f1ca246e-af97-4f41-bae5-a2966a2e1e11",
   "metadata": {},
   "source": [
    "*The scatterplot has a roughly exponential shape, with life expectancy rising drastically as GDP per capita increases. There is also more variation in life expectancy as GDP per capita increases; that is, the countries with the highest GDP per capita have a wide range of life expectancies (anywhere from about 50,000 to almost 140,000).*"
   ]
  },
  {
   "cell_type": "markdown",
   "id": "e5f6a86e-4b03-4bcc-bb0a-1a2b3e0fbf7c",
   "metadata": {},
   "source": [
    "### 28. Find the correlation between Life Expectancy and GDP per Capita for the year 2021. What is the meaning of this number?"
   ]
  },
  {
   "cell_type": "code",
   "execution_count": 38,
   "id": "3a421812-7228-4a2e-aba4-f8c0ab99dcc6",
   "metadata": {},
   "outputs": [
    {
     "data": {
      "text/html": [
       "<div>\n",
       "<style scoped>\n",
       "    .dataframe tbody tr th:only-of-type {\n",
       "        vertical-align: middle;\n",
       "    }\n",
       "\n",
       "    .dataframe tbody tr th {\n",
       "        vertical-align: top;\n",
       "    }\n",
       "\n",
       "    .dataframe thead th {\n",
       "        text-align: right;\n",
       "    }\n",
       "</style>\n",
       "<table border=\"1\" class=\"dataframe\">\n",
       "  <thead>\n",
       "    <tr style=\"text-align: right;\">\n",
       "      <th></th>\n",
       "      <th>Life_Expectancy</th>\n",
       "      <th>GDP_Per_Capita</th>\n",
       "    </tr>\n",
       "  </thead>\n",
       "  <tbody>\n",
       "    <tr>\n",
       "      <th>Life_Expectancy</th>\n",
       "      <td>1.000000</td>\n",
       "      <td>0.752785</td>\n",
       "    </tr>\n",
       "    <tr>\n",
       "      <th>GDP_Per_Capita</th>\n",
       "      <td>0.752785</td>\n",
       "      <td>1.000000</td>\n",
       "    </tr>\n",
       "  </tbody>\n",
       "</table>\n",
       "</div>"
      ],
      "text/plain": [
       "                 Life_Expectancy  GDP_Per_Capita\n",
       "Life_Expectancy         1.000000        0.752785\n",
       "GDP_Per_Capita          0.752785        1.000000"
      ]
     },
     "execution_count": 38,
     "metadata": {},
     "output_type": "execute_result"
    }
   ],
   "source": [
    "gdp_le_2021[['Life_Expectancy','GDP_Per_Capita']].corr()"
   ]
  },
  {
   "cell_type": "markdown",
   "id": "d5f8c9cf-7f09-48f4-bc88-fb5db9317cbc",
   "metadata": {},
   "source": [
    "*The correlation coefficient for the relationship between life expectancy and GDP per capita in 2021 was R=0.75. This indicates a strong positive correlation between the 2 variables; that is, higher life expectancy tends to be associated with high GDP per capita.*"
   ]
  },
  {
   "cell_type": "markdown",
   "id": "55a6e126-8392-48cd-9800-97aaaa710cd3",
   "metadata": {},
   "source": [
    "### 29. Add a column to gdp_le_2021 and calculate the logarithm of GDP per capita. Find the correlation between the log of GDP per capita and life expectancy. How does this compare to the calculation in the previous part? Look at a scatter plot to see if the result of this calculation makes sense."
   ]
  },
  {
   "cell_type": "code",
   "execution_count": 44,
   "id": "d3812b9b-4eb7-47bb-99c9-ad39399f71a3",
   "metadata": {},
   "outputs": [],
   "source": [
    "gdp_le_2021.loc[:,'Log_GDP'] = np.log(gdp_le_2021.loc[:,'GDP_Per_Capita'])"
   ]
  },
  {
   "cell_type": "code",
   "execution_count": 45,
   "id": "bd03aab0-2d23-47ac-bfa8-cf79b2e407e4",
   "metadata": {},
   "outputs": [
    {
     "data": {
      "text/html": [
       "<div>\n",
       "<style scoped>\n",
       "    .dataframe tbody tr th:only-of-type {\n",
       "        vertical-align: middle;\n",
       "    }\n",
       "\n",
       "    .dataframe tbody tr th {\n",
       "        vertical-align: top;\n",
       "    }\n",
       "\n",
       "    .dataframe thead th {\n",
       "        text-align: right;\n",
       "    }\n",
       "</style>\n",
       "<table border=\"1\" class=\"dataframe\">\n",
       "  <thead>\n",
       "    <tr style=\"text-align: right;\">\n",
       "      <th></th>\n",
       "      <th>Life_Expectancy</th>\n",
       "      <th>Log_GDP</th>\n",
       "    </tr>\n",
       "  </thead>\n",
       "  <tbody>\n",
       "    <tr>\n",
       "      <th>Life_Expectancy</th>\n",
       "      <td>1.000000</td>\n",
       "      <td>0.849065</td>\n",
       "    </tr>\n",
       "    <tr>\n",
       "      <th>Log_GDP</th>\n",
       "      <td>0.849065</td>\n",
       "      <td>1.000000</td>\n",
       "    </tr>\n",
       "  </tbody>\n",
       "</table>\n",
       "</div>"
      ],
      "text/plain": [
       "                 Life_Expectancy   Log_GDP\n",
       "Life_Expectancy         1.000000  0.849065\n",
       "Log_GDP                 0.849065  1.000000"
      ]
     },
     "execution_count": 45,
     "metadata": {},
     "output_type": "execute_result"
    }
   ],
   "source": [
    "gdp_le_2021[['Life_Expectancy','Log_GDP']].corr()"
   ]
  },
  {
   "cell_type": "markdown",
   "id": "dd57607a-cbc2-4d7d-8bb8-5b0baf400c02",
   "metadata": {},
   "source": [
    "*The correlation coefficient between life expectancy and the log of GDP per capita in 2021 was R=0.85. This is a stronger correlation than the correlation between life expectancy and the normal (non-log transformed) GDP per capita data. The below scatterplot suppports this, as the residuals are smaller than the plot above, especially as log(GDP) increases.*"
   ]
  },
  {
   "cell_type": "code",
   "execution_count": 46,
   "id": "5fd2444f-2c81-48ee-b3de-4f9e4b12374a",
   "metadata": {},
   "outputs": [
    {
     "data": {
      "image/png": "[encoded data removed]",
      "text/plain": [
       "<Figure size 640x480 with 1 Axes>"
      ]
     },
     "metadata": {},
     "output_type": "display_data"
    }
   ],
   "source": [
    "gdp_le_2021.plot.scatter(x='Life_Expectancy', y='Log_GDP')\n",
    "plt.title('Life Expectancy vs Log(GDP Per Capita) in 2021')\n",
    "plt.xlabel('Log(GDP Per Capita (PPP))')\n",
    "plt.ylabel('Life Expectancy (in years)')\n",
    "plt.show()"
   ]
  },
  {
   "cell_type": "markdown",
   "id": "e9e5fcd5-7340-4e4a-9a65-cb13bcd7f404",
   "metadata": {},
   "source": [
    "### Bonus 1: Choose and download another data set from the UN data http://data.un.org/Explorer.aspx to explore. You may want to combine your new dataset with one or both of the datasets that you already worked with. Report any interesting correlations or trends that you find."
   ]
  },
  {
   "cell_type": "code",
   "execution_count": null,
   "id": "76e5026c-55b3-4992-a155-262c563003b8",
   "metadata": {},
   "outputs": [],
   "source": []
  },
  {
   "cell_type": "code",
   "execution_count": null,
   "id": "8579bcf8-1757-4f46-8e65-0b4e142f789a",
   "metadata": {},
   "outputs": [],
   "source": []
  },
  {
   "cell_type": "code",
   "execution_count": null,
   "id": "f89d5b30-29d4-4f17-8b81-d70f4e73b1c2",
   "metadata": {},
   "outputs": [],
   "source": [
    "# Dataset: Women's share of tertiary enrolment in science\n",
    "wmn_science=pd.read_csv(\"../data/women_in_science.csv\")\n",
    "wmn_science = (\n",
    "    wmn_science\n",
    "            .drop(columns=['Subgroup','Source','Unit','Value Footnotes'])\n",
    "            .rename(columns={'Value':'Women_in_Science','Country or Area':'Country'})\n",
    "            .dropna()\n",
    "    )"
   ]
  },
  {
   "cell_type": "code",
   "execution_count": null,
   "id": "804c7cb1-39bf-415e-82c5-bbdefdb6a37f",
   "metadata": {},
   "outputs": [],
   "source": [
    "wmn_science.dtypes"
   ]
  },
  {
   "cell_type": "code",
   "execution_count": null,
   "id": "4a7abdf2-4aa1-45f5-a2d0-463c1314c9a0",
   "metadata": {},
   "outputs": [],
   "source": [
    "gdp_le.dtypes"
   ]
  },
  {
   "cell_type": "code",
   "execution_count": null,
   "id": "e0aaa2d8-7b7e-4877-bb64-45c2b9f87cad",
   "metadata": {},
   "outputs": [],
   "source": [
    "# Standardize our datatypes before merging\n",
    "wmn_science['Year'] = wmn_science['Year'].astype(\"int64\")\n",
    "wmn_science['Year'] = wmn_science['Year'].astype(\"string\")\n",
    "# Drop junk values\n",
    "wmn_science=wmn_science[(wmn_science['Women_in_Science'] != '-') & (wmn_science['Women_in_Science'] != '…')]\n",
    "# Convert women_in_science to int\n",
    "wmn_science['Women_in_Science'] = wmn_science['Women_in_Science'].astype(\"int64\")"
   ]
  },
  {
   "cell_type": "code",
   "execution_count": null,
   "id": "ef8bb2e4-f9e3-4691-b324-667a76bb6793",
   "metadata": {},
   "outputs": [],
   "source": [
    "gdp_le_wmn=gdp_le.merge(wmn_science, on=['Country','Year'], how='inner')"
   ]
  },
  {
   "cell_type": "code",
   "execution_count": null,
   "id": "6ed29a3a-040f-45e9-b8da-3ec947bdff4b",
   "metadata": {},
   "outputs": [],
   "source": [
    "# Question: is percentage of women in science in 2004 correlated with either GDPs or life expectancy?\n",
    "gdp_le_wmn_2004=gdp_le_wmn[gdp_le_wmn['Year']=='2004']"
   ]
  },
  {
   "cell_type": "code",
   "execution_count": null,
   "id": "5bfdbf07-fad4-4625-b4c5-c2b540588386",
   "metadata": {},
   "outputs": [],
   "source": [
    "gdp_le_wmn_2004.plot.scatter(x='Women_in_Science', y='GDP_Per_Capita')\n",
    "plt.title('Women in Science vs GDP Per Capita in 2004')\n",
    "plt.xlabel('Women in Science (Percent of tertiary enrollment)')\n",
    "plt.xticks(rotation=45)\n",
    "plt.ylabel('GDP Per Capita (PPP)')\n",
    "plt.show()\n",
    "gdp_le_wmn_2004[['Women_in_Science','GDP_Per_Capita']].corr()"
   ]
  },
  {
   "cell_type": "code",
   "execution_count": null,
   "id": "3f0aad1c-2b12-4a79-8615-010054f4a051",
   "metadata": {},
   "outputs": [],
   "source": [
    "gdp_le_wmn_2004.plot.scatter(x='Women_in_Science', y='Life_Expectancy')\n",
    "plt.title('Women in Science vs Life Expectancy in 2004')\n",
    "plt.xlabel('Women in Science (Percent of tertiary enrollment)')\n",
    "plt.xticks(rotation=45)\n",
    "plt.ylabel('Life Expectancy')\n",
    "plt.show()\n",
    "gdp_le_wmn_2004[['Women_in_Science','Life_Expectancy']].corr()"
   ]
  },
  {
   "cell_type": "markdown",
   "id": "21891d38-b6ab-479c-be72-e9df70612da2",
   "metadata": {},
   "source": [
    "*There is an extremely weak correlation between women in science and GDP and women in science and life expectancy.*"
   ]
  },
  {
   "cell_type": "markdown",
   "id": "f043b15e-066a-4017-8199-74250c7f325a",
   "metadata": {},
   "source": [
    "### Bonus 2: If time allows, check out the plotly library to add additional interativity to your plots. https://plotly.com/python/plotly-express/."
   ]
  },
  {
   "cell_type": "code",
   "execution_count": 47,
   "id": "aeb36818-2347-4868-aa5f-c026a41607ab",
   "metadata": {},
   "outputs": [],
   "source": [
    "# Create a hover label plot for gdp and life expectancy with dot size relative to population for the year 2021\n",
    "# First, need to merge population data into gdp_le\n",
    "pop=pd.read_csv('../data/population_data.csv', dtype={'Year': str}).dropna()\n",
    "pop= (\n",
    "    pop[(pop['Sex']=='Both Sexes') & (pop['Age']=='Total') & (pop['Area']=='Total')]\n",
    "    .drop(columns=['Record Type','Reliability','Source Year','Value Footnotes','Area','Sex','Age'])\n",
    "    .rename(columns={'Country or Area':'Country','Value':'Population'})\n",
    "                   )"
   ]
  },
  {
   "cell_type": "code",
   "execution_count": 49,
   "id": "02f8ca18-3410-4ca8-a620-8c94164d5efc",
   "metadata": {},
   "outputs": [
    {
     "data": {
      "text/plain": [
       "Country        object\n",
       "Year           object\n",
       "Population    float64\n",
       "dtype: object"
      ]
     },
     "execution_count": 49,
     "metadata": {},
     "output_type": "execute_result"
    }
   ],
   "source": [
    "pop.dtypes"
   ]
  },
  {
   "cell_type": "code",
   "execution_count": 50,
   "id": "1a5d7ba9-8181-4c13-805d-282080a7729a",
   "metadata": {},
   "outputs": [
    {
     "data": {
      "text/html": [
       "<div>\n",
       "<style scoped>\n",
       "    .dataframe tbody tr th:only-of-type {\n",
       "        vertical-align: middle;\n",
       "    }\n",
       "\n",
       "    .dataframe tbody tr th {\n",
       "        vertical-align: top;\n",
       "    }\n",
       "\n",
       "    .dataframe thead th {\n",
       "        text-align: right;\n",
       "    }\n",
       "</style>\n",
       "<table border=\"1\" class=\"dataframe\">\n",
       "  <thead>\n",
       "    <tr style=\"text-align: right;\">\n",
       "      <th></th>\n",
       "      <th>Country</th>\n",
       "      <th>Year</th>\n",
       "      <th>Population</th>\n",
       "    </tr>\n",
       "  </thead>\n",
       "  <tbody>\n",
       "    <tr>\n",
       "      <th>0</th>\n",
       "      <td>Afghanistan</td>\n",
       "      <td>1979</td>\n",
       "      <td>13051358.0</td>\n",
       "    </tr>\n",
       "    <tr>\n",
       "      <th>229</th>\n",
       "      <td>Åland Islands</td>\n",
       "      <td>2024</td>\n",
       "      <td>30597.5</td>\n",
       "    </tr>\n",
       "    <tr>\n",
       "      <th>727</th>\n",
       "      <td>Åland Islands</td>\n",
       "      <td>2023</td>\n",
       "      <td>30450.0</td>\n",
       "    </tr>\n",
       "    <tr>\n",
       "      <th>1225</th>\n",
       "      <td>Åland Islands</td>\n",
       "      <td>2022</td>\n",
       "      <td>30351.5</td>\n",
       "    </tr>\n",
       "    <tr>\n",
       "      <th>1739</th>\n",
       "      <td>Åland Islands</td>\n",
       "      <td>2021</td>\n",
       "      <td>30236.5</td>\n",
       "    </tr>\n",
       "    <tr>\n",
       "      <th>...</th>\n",
       "      <td>...</td>\n",
       "      <td>...</td>\n",
       "      <td>...</td>\n",
       "    </tr>\n",
       "    <tr>\n",
       "      <th>93580</th>\n",
       "      <td>Australia</td>\n",
       "      <td>2006</td>\n",
       "      <td>20701488.0</td>\n",
       "    </tr>\n",
       "    <tr>\n",
       "      <th>95670</th>\n",
       "      <td>Australia</td>\n",
       "      <td>2004</td>\n",
       "      <td>20091504.0</td>\n",
       "    </tr>\n",
       "    <tr>\n",
       "      <th>98583</th>\n",
       "      <td>Australia</td>\n",
       "      <td>1999</td>\n",
       "      <td>18925855.0</td>\n",
       "    </tr>\n",
       "    <tr>\n",
       "      <th>99009</th>\n",
       "      <td>Australia</td>\n",
       "      <td>1997</td>\n",
       "      <td>18517564.0</td>\n",
       "    </tr>\n",
       "    <tr>\n",
       "      <th>99067</th>\n",
       "      <td>Australia</td>\n",
       "      <td>1996</td>\n",
       "      <td>18310714.0</td>\n",
       "    </tr>\n",
       "  </tbody>\n",
       "</table>\n",
       "<p>192 rows × 3 columns</p>\n",
       "</div>"
      ],
      "text/plain": [
       "             Country  Year  Population\n",
       "0        Afghanistan  1979  13051358.0\n",
       "229    Åland Islands  2024     30597.5\n",
       "727    Åland Islands  2023     30450.0\n",
       "1225   Åland Islands  2022     30351.5\n",
       "1739   Åland Islands  2021     30236.5\n",
       "...              ...   ...         ...\n",
       "93580      Australia  2006  20701488.0\n",
       "95670      Australia  2004  20091504.0\n",
       "98583      Australia  1999  18925855.0\n",
       "99009      Australia  1997  18517564.0\n",
       "99067      Australia  1996  18310714.0\n",
       "\n",
       "[192 rows x 3 columns]"
      ]
     },
     "execution_count": 50,
     "metadata": {},
     "output_type": "execute_result"
    }
   ],
   "source": [
    "# Creating a hover label plot of gdp and life expectancy with dot size relative to population. \n",
    "# First need to find pop data and merge it in to gdp_le.\n",
    "pop=pd.read_csv('../data/population_data.csv',dtype={'Year': str}).dropna()\n",
    "pop=(\n",
    "    pop[(pop['Area']=='Total') & (pop['Age']=='Total') & (pop['Sex']=='Both Sexes')]\n",
    "    .rename(columns={'Country or Area':'Country','Value':'Population'})\n",
    "    .drop(columns=['Area','Sex','Age','Record Type','Reliability','Source Year','Value Footnotes'])\n",
    ")\n",
    "pop"
   ]
  },
  {
   "cell_type": "code",
   "execution_count": 51,
   "id": "cd382743-faad-4efb-9ae3-e39acbaf3572",
   "metadata": {},
   "outputs": [
    {
     "data": {
      "text/plain": [
       "Country        object\n",
       "Year           object\n",
       "Population    float64\n",
       "dtype: object"
      ]
     },
     "execution_count": 51,
     "metadata": {},
     "output_type": "execute_result"
    }
   ],
   "source": [
    "pop.dtypes"
   ]
  },
  {
   "cell_type": "code",
   "execution_count": 52,
   "id": "c8b8604a-5373-4d77-8ff4-57dfc25c9c96",
   "metadata": {},
   "outputs": [
    {
     "data": {
      "text/plain": [
       "Country             object\n",
       "Year                 int64\n",
       "GDP_Per_Capita     float64\n",
       "Continent           object\n",
       "Life_Expectancy    float64\n",
       "dtype: object"
      ]
     },
     "execution_count": 52,
     "metadata": {},
     "output_type": "execute_result"
    }
   ],
   "source": [
    "gdp_le.dtypes"
   ]
  },
  {
   "cell_type": "code",
   "execution_count": 78,
   "id": "d3830c3a-1064-48d6-89d7-457a182a6092",
   "metadata": {},
   "outputs": [],
   "source": [
    "pop['Year'] = pop['Year'].astype(\"int64\")"
   ]
  },
  {
   "cell_type": "code",
   "execution_count": 79,
   "id": "3018f2ee-fa6b-4027-a94f-5fa8448a6985",
   "metadata": {},
   "outputs": [],
   "source": [
    "gdp_le_pop=gdp_le.merge(pop,on=['Country','Year'],how='inner')"
   ]
  },
  {
   "cell_type": "code",
   "execution_count": 80,
   "id": "47e16215-fe1d-4007-8dda-531e30a52376",
   "metadata": {},
   "outputs": [],
   "source": [
    "gdp_le_pop_2016=gdp_le_pop[gdp_le_pop['Year']==2016]"
   ]
  },
  {
   "cell_type": "code",
   "execution_count": 82,
   "id": "c0fb62a6-45e3-4fda-b5c6-9529331afe59",
   "metadata": {},
   "outputs": [
    {
     "data": {
      "text/html": [
       "<div>\n",
       "<style scoped>\n",
       "    .dataframe tbody tr th:only-of-type {\n",
       "        vertical-align: middle;\n",
       "    }\n",
       "\n",
       "    .dataframe tbody tr th {\n",
       "        vertical-align: top;\n",
       "    }\n",
       "\n",
       "    .dataframe thead th {\n",
       "        text-align: right;\n",
       "    }\n",
       "</style>\n",
       "<table border=\"1\" class=\"dataframe\">\n",
       "  <thead>\n",
       "    <tr style=\"text-align: right;\">\n",
       "      <th></th>\n",
       "      <th>Country</th>\n",
       "      <th>Year</th>\n",
       "      <th>GDP_Per_Capita</th>\n",
       "      <th>Continent</th>\n",
       "      <th>Life_Expectancy</th>\n",
       "      <th>Population</th>\n",
       "    </tr>\n",
       "  </thead>\n",
       "  <tbody>\n",
       "    <tr>\n",
       "      <th>21</th>\n",
       "      <td>Andorra</td>\n",
       "      <td>2016</td>\n",
       "      <td>64402.809237</td>\n",
       "      <td>Europe</td>\n",
       "      <td>84.48900</td>\n",
       "      <td>72358.0</td>\n",
       "    </tr>\n",
       "    <tr>\n",
       "      <th>22</th>\n",
       "      <td>Andorra</td>\n",
       "      <td>2016</td>\n",
       "      <td>64402.809237</td>\n",
       "      <td>Europe</td>\n",
       "      <td>84.48900</td>\n",
       "      <td>71732.0</td>\n",
       "    </tr>\n",
       "    <tr>\n",
       "      <th>50</th>\n",
       "      <td>Antigua and Barbuda</td>\n",
       "      <td>2016</td>\n",
       "      <td>26637.418160</td>\n",
       "      <td>North America</td>\n",
       "      <td>76.96800</td>\n",
       "      <td>92157.0</td>\n",
       "    </tr>\n",
       "    <tr>\n",
       "      <th>64</th>\n",
       "      <td>Argentina</td>\n",
       "      <td>2016</td>\n",
       "      <td>27802.105720</td>\n",
       "      <td>South America</td>\n",
       "      <td>76.10500</td>\n",
       "      <td>43590368.0</td>\n",
       "    </tr>\n",
       "    <tr>\n",
       "      <th>105</th>\n",
       "      <td>Australia</td>\n",
       "      <td>2016</td>\n",
       "      <td>56305.896429</td>\n",
       "      <td>Oceania</td>\n",
       "      <td>82.44878</td>\n",
       "      <td>23401892.0</td>\n",
       "    </tr>\n",
       "    <tr>\n",
       "      <th>106</th>\n",
       "      <td>Australia</td>\n",
       "      <td>2016</td>\n",
       "      <td>56305.896429</td>\n",
       "      <td>Oceania</td>\n",
       "      <td>82.44878</td>\n",
       "      <td>24190907.0</td>\n",
       "    </tr>\n",
       "  </tbody>\n",
       "</table>\n",
       "</div>"
      ],
      "text/plain": [
       "                 Country  Year  GDP_Per_Capita      Continent  \\\n",
       "21               Andorra  2016    64402.809237         Europe   \n",
       "22               Andorra  2016    64402.809237         Europe   \n",
       "50   Antigua and Barbuda  2016    26637.418160  North America   \n",
       "64             Argentina  2016    27802.105720  South America   \n",
       "105            Australia  2016    56305.896429        Oceania   \n",
       "106            Australia  2016    56305.896429        Oceania   \n",
       "\n",
       "     Life_Expectancy  Population  \n",
       "21          84.48900     72358.0  \n",
       "22          84.48900     71732.0  \n",
       "50          76.96800     92157.0  \n",
       "64          76.10500  43590368.0  \n",
       "105         82.44878  23401892.0  \n",
       "106         82.44878  24190907.0  "
      ]
     },
     "execution_count": 82,
     "metadata": {},
     "output_type": "execute_result"
    }
   ],
   "source": [
    "gdp_le_pop_2016"
   ]
  },
  {
   "cell_type": "code",
   "execution_count": 74,
   "id": "7863a9f8-b6b1-422c-8228-c36a84cb7f79",
   "metadata": {},
   "outputs": [
    {
     "data": {
      "application/vnd.plotly.v1+json": {
       "config": {
        "plotlyServerURL": "https://plot.ly"
       },
       "data": [
        {
         "hovertemplate": "<b>%{hovertext}</b><br><br>Continent=Europe<br>GDP_Per_Capita=%{x}<br>Life_Expectancy=%{y}<br>Population=%{marker.size}<extra></extra>",
         "hovertext": [
          "Andorra",
          "Andorra"
         ],
         "legendgroup": "Europe",
         "marker": {
          "color": "#636efa",
          "size": [
           72358,
           71732
          ],
          "sizemode": "area",
          "sizeref": 12108.435555555556,
          "symbol": "circle"
         },
         "mode": "markers",
         "name": "Europe",
         "orientation": "v",
         "showlegend": true,
         "type": "scatter",
         "x": [
          64402.80923694675,
          64402.80923694675
         ],
         "xaxis": "x",
         "y": [
          84.489,
          84.489
         ],
         "yaxis": "y"
        },
        {
         "hovertemplate": "<b>%{hovertext}</b><br><br>Continent=North America<br>GDP_Per_Capita=%{x}<br>Life_Expectancy=%{y}<br>Population=%{marker.size}<extra></extra>",
         "hovertext": [
          "Antigua and Barbuda"
         ],
         "legendgroup": "North America",
         "marker": {
          "color": "#EF553B",
          "size": [
           92157
          ],
          "sizemode": "area",
          "sizeref": 12108.435555555556,
          "symbol": "circle"
         },
         "mode": "markers",
         "name": "North America",
         "orientation": "v",
         "showlegend": true,
         "type": "scatter",
         "x": [
          26637.418159611683
         ],
         "xaxis": "x",
         "y": [
          76.968
         ],
         "yaxis": "y"
        },
        {
         "hovertemplate": "<b>%{hovertext}</b><br><br>Continent=South America<br>GDP_Per_Capita=%{x}<br>Life_Expectancy=%{y}<br>Population=%{marker.size}<extra></extra>",
         "hovertext": [
          "Argentina"
         ],
         "legendgroup": "South America",
         "marker": {
          "color": "#00cc96",
          "size": [
           43590368
          ],
          "sizemode": "area",
          "sizeref": 12108.435555555556,
          "symbol": "circle"
         },
         "mode": "markers",
         "name": "South America",
         "orientation": "v",
         "showlegend": true,
         "type": "scatter",
         "x": [
          27802.105720149757
         ],
         "xaxis": "x",
         "y": [
          76.105
         ],
         "yaxis": "y"
        },
        {
         "hovertemplate": "<b>%{hovertext}</b><br><br>Continent=Oceania<br>GDP_Per_Capita=%{x}<br>Life_Expectancy=%{y}<br>Population=%{marker.size}<extra></extra>",
         "hovertext": [
          "Australia",
          "Australia"
         ],
         "legendgroup": "Oceania",
         "marker": {
          "color": "#ab63fa",
          "size": [
           23401892,
           24190907
          ],
          "sizemode": "area",
          "sizeref": 12108.435555555556,
          "symbol": "circle"
         },
         "mode": "markers",
         "name": "Oceania",
         "orientation": "v",
         "showlegend": true,
         "type": "scatter",
         "x": [
          56305.896429454544,
          56305.896429454544
         ],
         "xaxis": "x",
         "y": [
          82.4487804878049,
          82.4487804878049
         ],
         "yaxis": "y"
        }
       ],
       "layout": {
        "legend": {
         "itemsizing": "constant",
         "title": {
          "text": "Continent"
         },
         "tracegroupgap": 0
        },
        "margin": {
         "t": 60
        },
        "template": {
         "data": {
          "bar": [
           {
            "error_x": {
             "color": "#2a3f5f"
            },
            "error_y": {
             "color": "#2a3f5f"
            },
            "marker": {
             "line": {
              "color": "#E5ECF6",
              "width": 0.5
             },
             "pattern": {
              "fillmode": "overlay",
              "size": 10,
              "solidity": 0.2
             }
            },
            "type": "bar"
           }
          ],
          "barpolar": [
           {
            "marker": {
             "line": {
              "color": "#E5ECF6",
              "width": 0.5
             },
             "pattern": {
              "fillmode": "overlay",
              "size": 10,
              "solidity": 0.2
             }
            },
            "type": "barpolar"
           }
          ],
          "carpet": [
           {
            "aaxis": {
             "endlinecolor": "#2a3f5f",
             "gridcolor": "white",
             "linecolor": "white",
             "minorgridcolor": "white",
             "startlinecolor": "#2a3f5f"
            },
            "baxis": {
             "endlinecolor": "#2a3f5f",
             "gridcolor": "white",
             "linecolor": "white",
             "minorgridcolor": "white",
             "startlinecolor": "#2a3f5f"
            },
            "type": "carpet"
           }
          ],
          "choropleth": [
           {
            "colorbar": {
             "outlinewidth": 0,
             "ticks": ""
            },
            "type": "choropleth"
           }
          ],
          "contour": [
           {
            "colorbar": {
             "outlinewidth": 0,
             "ticks": ""
            },
            "colorscale": [
             [
              0,
              "#0d0887"
             ],
             [
              0.1111111111111111,
              "#46039f"
             ],
             [
              0.2222222222222222,
              "#7201a8"
             ],
             [
              0.3333333333333333,
              "#9c179e"
             ],
             [
              0.4444444444444444,
              "#bd3786"
             ],
             [
              0.5555555555555556,
              "#d8576b"
             ],
             [
              0.6666666666666666,
              "#ed7953"
             ],
             [
              0.7777777777777778,
              "#fb9f3a"
             ],
             [
              0.8888888888888888,
              "#fdca26"
             ],
             [
              1,
              "#f0f921"
             ]
            ],
            "type": "contour"
           }
          ],
          "contourcarpet": [
           {
            "colorbar": {
             "outlinewidth": 0,
             "ticks": ""
            },
            "type": "contourcarpet"
           }
          ],
          "heatmap": [
           {
            "colorbar": {
             "outlinewidth": 0,
             "ticks": ""
            },
            "colorscale": [
             [
              0,
              "#0d0887"
             ],
             [
              0.1111111111111111,
              "#46039f"
             ],
             [
              0.2222222222222222,
              "#7201a8"
             ],
             [
              0.3333333333333333,
              "#9c179e"
             ],
             [
              0.4444444444444444,
              "#bd3786"
             ],
             [
              0.5555555555555556,
              "#d8576b"
             ],
             [
              0.6666666666666666,
              "#ed7953"
             ],
             [
              0.7777777777777778,
              "#fb9f3a"
             ],
             [
              0.8888888888888888,
              "#fdca26"
             ],
             [
              1,
              "#f0f921"
             ]
            ],
            "type": "heatmap"
           }
          ],
          "heatmapgl": [
           {
            "colorbar": {
             "outlinewidth": 0,
             "ticks": ""
            },
            "colorscale": [
             [
              0,
              "#0d0887"
             ],
             [
              0.1111111111111111,
              "#46039f"
             ],
             [
              0.2222222222222222,
              "#7201a8"
             ],
             [
              0.3333333333333333,
              "#9c179e"
             ],
             [
              0.4444444444444444,
              "#bd3786"
             ],
             [
              0.5555555555555556,
              "#d8576b"
             ],
             [
              0.6666666666666666,
              "#ed7953"
             ],
             [
              0.7777777777777778,
              "#fb9f3a"
             ],
             [
              0.8888888888888888,
              "#fdca26"
             ],
             [
              1,
              "#f0f921"
             ]
            ],
            "type": "heatmapgl"
           }
          ],
          "histogram": [
           {
            "marker": {
             "pattern": {
              "fillmode": "overlay",
              "size": 10,
              "solidity": 0.2
             }
            },
            "type": "histogram"
           }
          ],
          "histogram2d": [
           {
            "colorbar": {
             "outlinewidth": 0,
             "ticks": ""
            },
            "colorscale": [
             [
              0,
              "#0d0887"
             ],
             [
              0.1111111111111111,
              "#46039f"
             ],
             [
              0.2222222222222222,
              "#7201a8"
             ],
             [
              0.3333333333333333,
              "#9c179e"
             ],
             [
              0.4444444444444444,
              "#bd3786"
             ],
             [
              0.5555555555555556,
              "#d8576b"
             ],
             [
              0.6666666666666666,
              "#ed7953"
             ],
             [
              0.7777777777777778,
              "#fb9f3a"
             ],
             [
              0.8888888888888888,
              "#fdca26"
             ],
             [
              1,
              "#f0f921"
             ]
            ],
            "type": "histogram2d"
           }
          ],
          "histogram2dcontour": [
           {
            "colorbar": {
             "outlinewidth": 0,
             "ticks": ""
            },
            "colorscale": [
             [
              0,
              "#0d0887"
             ],
             [
              0.1111111111111111,
              "#46039f"
             ],
             [
              0.2222222222222222,
              "#7201a8"
             ],
             [
              0.3333333333333333,
              "#9c179e"
             ],
             [
              0.4444444444444444,
              "#bd3786"
             ],
             [
              0.5555555555555556,
              "#d8576b"
             ],
             [
              0.6666666666666666,
              "#ed7953"
             ],
             [
              0.7777777777777778,
              "#fb9f3a"
             ],
             [
              0.8888888888888888,
              "#fdca26"
             ],
             [
              1,
              "#f0f921"
             ]
            ],
            "type": "histogram2dcontour"
           }
          ],
          "mesh3d": [
           {
            "colorbar": {
             "outlinewidth": 0,
             "ticks": ""
            },
            "type": "mesh3d"
           }
          ],
          "parcoords": [
           {
            "line": {
             "colorbar": {
              "outlinewidth": 0,
              "ticks": ""
             }
            },
            "type": "parcoords"
           }
          ],
          "pie": [
           {
            "automargin": true,
            "type": "pie"
           }
          ],
          "scatter": [
           {
            "fillpattern": {
             "fillmode": "overlay",
             "size": 10,
             "solidity": 0.2
            },
            "type": "scatter"
           }
          ],
          "scatter3d": [
           {
            "line": {
             "colorbar": {
              "outlinewidth": 0,
              "ticks": ""
             }
            },
            "marker": {
             "colorbar": {
              "outlinewidth": 0,
              "ticks": ""
             }
            },
            "type": "scatter3d"
           }
          ],
          "scattercarpet": [
           {
            "marker": {
             "colorbar": {
              "outlinewidth": 0,
              "ticks": ""
             }
            },
            "type": "scattercarpet"
           }
          ],
          "scattergeo": [
           {
            "marker": {
             "colorbar": {
              "outlinewidth": 0,
              "ticks": ""
             }
            },
            "type": "scattergeo"
           }
          ],
          "scattergl": [
           {
            "marker": {
             "colorbar": {
              "outlinewidth": 0,
              "ticks": ""
             }
            },
            "type": "scattergl"
           }
          ],
          "scattermapbox": [
           {
            "marker": {
             "colorbar": {
              "outlinewidth": 0,
              "ticks": ""
             }
            },
            "type": "scattermapbox"
           }
          ],
          "scatterpolar": [
           {
            "marker": {
             "colorbar": {
              "outlinewidth": 0,
              "ticks": ""
             }
            },
            "type": "scatterpolar"
           }
          ],
          "scatterpolargl": [
           {
            "marker": {
             "colorbar": {
              "outlinewidth": 0,
              "ticks": ""
             }
            },
            "type": "scatterpolargl"
           }
          ],
          "scatterternary": [
           {
            "marker": {
             "colorbar": {
              "outlinewidth": 0,
              "ticks": ""
             }
            },
            "type": "scatterternary"
           }
          ],
          "surface": [
           {
            "colorbar": {
             "outlinewidth": 0,
             "ticks": ""
            },
            "colorscale": [
             [
              0,
              "#0d0887"
             ],
             [
              0.1111111111111111,
              "#46039f"
             ],
             [
              0.2222222222222222,
              "#7201a8"
             ],
             [
              0.3333333333333333,
              "#9c179e"
             ],
             [
              0.4444444444444444,
              "#bd3786"
             ],
             [
              0.5555555555555556,
              "#d8576b"
             ],
             [
              0.6666666666666666,
              "#ed7953"
             ],
             [
              0.7777777777777778,
              "#fb9f3a"
             ],
             [
              0.8888888888888888,
              "#fdca26"
             ],
             [
              1,
              "#f0f921"
             ]
            ],
            "type": "surface"
           }
          ],
          "table": [
           {
            "cells": {
             "fill": {
              "color": "#EBF0F8"
             },
             "line": {
              "color": "white"
             }
            },
            "header": {
             "fill": {
              "color": "#C8D4E3"
             },
             "line": {
              "color": "white"
             }
            },
            "type": "table"
           }
          ]
         },
         "layout": {
          "annotationdefaults": {
           "arrowcolor": "#2a3f5f",
           "arrowhead": 0,
           "arrowwidth": 1
          },
          "autotypenumbers": "strict",
          "coloraxis": {
           "colorbar": {
            "outlinewidth": 0,
            "ticks": ""
           }
          },
          "colorscale": {
           "diverging": [
            [
             0,
             "#8e0152"
            ],
            [
             0.1,
             "#c51b7d"
            ],
            [
             0.2,
             "#de77ae"
            ],
            [
             0.3,
             "#f1b6da"
            ],
            [
             0.4,
             "#fde0ef"
            ],
            [
             0.5,
             "#f7f7f7"
            ],
            [
             0.6,
             "#e6f5d0"
            ],
            [
             0.7,
             "#b8e186"
            ],
            [
             0.8,
             "#7fbc41"
            ],
            [
             0.9,
             "#4d9221"
            ],
            [
             1,
             "#276419"
            ]
           ],
           "sequential": [
            [
             0,
             "#0d0887"
            ],
            [
             0.1111111111111111,
             "#46039f"
            ],
            [
             0.2222222222222222,
             "#7201a8"
            ],
            [
             0.3333333333333333,
             "#9c179e"
            ],
            [
             0.4444444444444444,
             "#bd3786"
            ],
            [
             0.5555555555555556,
             "#d8576b"
            ],
            [
             0.6666666666666666,
             "#ed7953"
            ],
            [
             0.7777777777777778,
             "#fb9f3a"
            ],
            [
             0.8888888888888888,
             "#fdca26"
            ],
            [
             1,
             "#f0f921"
            ]
           ],
           "sequentialminus": [
            [
             0,
             "#0d0887"
            ],
            [
             0.1111111111111111,
             "#46039f"
            ],
            [
             0.2222222222222222,
             "#7201a8"
            ],
            [
             0.3333333333333333,
             "#9c179e"
            ],
            [
             0.4444444444444444,
             "#bd3786"
            ],
            [
             0.5555555555555556,
             "#d8576b"
            ],
            [
             0.6666666666666666,
             "#ed7953"
            ],
            [
             0.7777777777777778,
             "#fb9f3a"
            ],
            [
             0.8888888888888888,
             "#fdca26"
            ],
            [
             1,
             "#f0f921"
            ]
           ]
          },
          "colorway": [
           "#636efa",
           "#EF553B",
           "#00cc96",
           "#ab63fa",
           "#FFA15A",
           "#19d3f3",
           "#FF6692",
           "#B6E880",
           "#FF97FF",
           "#FECB52"
          ],
          "font": {
           "color": "#2a3f5f"
          },
          "geo": {
           "bgcolor": "white",
           "lakecolor": "white",
           "landcolor": "#E5ECF6",
           "showlakes": true,
           "showland": true,
           "subunitcolor": "white"
          },
          "hoverlabel": {
           "align": "left"
          },
          "hovermode": "closest",
          "mapbox": {
           "style": "light"
          },
          "paper_bgcolor": "white",
          "plot_bgcolor": "#E5ECF6",
          "polar": {
           "angularaxis": {
            "gridcolor": "white",
            "linecolor": "white",
            "ticks": ""
           },
           "bgcolor": "#E5ECF6",
           "radialaxis": {
            "gridcolor": "white",
            "linecolor": "white",
            "ticks": ""
           }
          },
          "scene": {
           "xaxis": {
            "backgroundcolor": "#E5ECF6",
            "gridcolor": "white",
            "gridwidth": 2,
            "linecolor": "white",
            "showbackground": true,
            "ticks": "",
            "zerolinecolor": "white"
           },
           "yaxis": {
            "backgroundcolor": "#E5ECF6",
            "gridcolor": "white",
            "gridwidth": 2,
            "linecolor": "white",
            "showbackground": true,
            "ticks": "",
            "zerolinecolor": "white"
           },
           "zaxis": {
            "backgroundcolor": "#E5ECF6",
            "gridcolor": "white",
            "gridwidth": 2,
            "linecolor": "white",
            "showbackground": true,
            "ticks": "",
            "zerolinecolor": "white"
           }
          },
          "shapedefaults": {
           "line": {
            "color": "#2a3f5f"
           }
          },
          "ternary": {
           "aaxis": {
            "gridcolor": "white",
            "linecolor": "white",
            "ticks": ""
           },
           "baxis": {
            "gridcolor": "white",
            "linecolor": "white",
            "ticks": ""
           },
           "bgcolor": "#E5ECF6",
           "caxis": {
            "gridcolor": "white",
            "linecolor": "white",
            "ticks": ""
           }
          },
          "title": {
           "x": 0.05
          },
          "xaxis": {
           "automargin": true,
           "gridcolor": "white",
           "linecolor": "white",
           "ticks": "",
           "title": {
            "standoff": 15
           },
           "zerolinecolor": "white",
           "zerolinewidth": 2
          },
          "yaxis": {
           "automargin": true,
           "gridcolor": "white",
           "linecolor": "white",
           "ticks": "",
           "title": {
            "standoff": 15
           },
           "zerolinecolor": "white",
           "zerolinewidth": 2
          }
         }
        },
        "xaxis": {
         "anchor": "y",
         "domain": [
          0,
          1
         ],
         "title": {
          "text": "GDP_Per_Capita"
         },
         "type": "log"
        },
        "yaxis": {
         "anchor": "x",
         "domain": [
          0,
          1
         ],
         "title": {
          "text": "Life_Expectancy"
         }
        }
       }
      },
      "image/png": "[encoded data removed]",
      "text/html": [
       "<div>                            <div id=\"5b89197d-a83d-486c-8288-5bf597faa359\" class=\"plotly-graph-div\" style=\"height:525px; width:100%;\"></div>            <script type=\"text/javascript\">                require([\"plotly\"], function(Plotly) {                    window.PLOTLYENV=window.PLOTLYENV || {};                                    if (document.getElementById(\"5b89197d-a83d-486c-8288-5bf597faa359\")) {                    Plotly.newPlot(                        \"5b89197d-a83d-486c-8288-5bf597faa359\",                        [{\"hovertemplate\":\"\\u003cb\\u003e%{hovertext}\\u003c\\u002fb\\u003e\\u003cbr\\u003e\\u003cbr\\u003eContinent=Europe\\u003cbr\\u003eGDP_Per_Capita=%{x}\\u003cbr\\u003eLife_Expectancy=%{y}\\u003cbr\\u003ePopulation=%{marker.size}\\u003cextra\\u003e\\u003c\\u002fextra\\u003e\",\"hovertext\":[\"Andorra\",\"Andorra\"],\"legendgroup\":\"Europe\",\"marker\":{\"color\":\"#636efa\",\"size\":[72358.0,71732.0],\"sizemode\":\"area\",\"sizeref\":12108.435555555556,\"symbol\":\"circle\"},\"mode\":\"markers\",\"name\":\"Europe\",\"orientation\":\"v\",\"showlegend\":true,\"x\":[64402.80923694675,64402.80923694675],\"xaxis\":\"x\",\"y\":[84.489,84.489],\"yaxis\":\"y\",\"type\":\"scatter\"},{\"hovertemplate\":\"\\u003cb\\u003e%{hovertext}\\u003c\\u002fb\\u003e\\u003cbr\\u003e\\u003cbr\\u003eContinent=North America\\u003cbr\\u003eGDP_Per_Capita=%{x}\\u003cbr\\u003eLife_Expectancy=%{y}\\u003cbr\\u003ePopulation=%{marker.size}\\u003cextra\\u003e\\u003c\\u002fextra\\u003e\",\"hovertext\":[\"Antigua and Barbuda\"],\"legendgroup\":\"North America\",\"marker\":{\"color\":\"#EF553B\",\"size\":[92157.0],\"sizemode\":\"area\",\"sizeref\":12108.435555555556,\"symbol\":\"circle\"},\"mode\":\"markers\",\"name\":\"North America\",\"orientation\":\"v\",\"showlegend\":true,\"x\":[26637.418159611683],\"xaxis\":\"x\",\"y\":[76.968],\"yaxis\":\"y\",\"type\":\"scatter\"},{\"hovertemplate\":\"\\u003cb\\u003e%{hovertext}\\u003c\\u002fb\\u003e\\u003cbr\\u003e\\u003cbr\\u003eContinent=South America\\u003cbr\\u003eGDP_Per_Capita=%{x}\\u003cbr\\u003eLife_Expectancy=%{y}\\u003cbr\\u003ePopulation=%{marker.size}\\u003cextra\\u003e\\u003c\\u002fextra\\u003e\",\"hovertext\":[\"Argentina\"],\"legendgroup\":\"South America\",\"marker\":{\"color\":\"#00cc96\",\"size\":[43590368.0],\"sizemode\":\"area\",\"sizeref\":12108.435555555556,\"symbol\":\"circle\"},\"mode\":\"markers\",\"name\":\"South America\",\"orientation\":\"v\",\"showlegend\":true,\"x\":[27802.105720149757],\"xaxis\":\"x\",\"y\":[76.105],\"yaxis\":\"y\",\"type\":\"scatter\"},{\"hovertemplate\":\"\\u003cb\\u003e%{hovertext}\\u003c\\u002fb\\u003e\\u003cbr\\u003e\\u003cbr\\u003eContinent=Oceania\\u003cbr\\u003eGDP_Per_Capita=%{x}\\u003cbr\\u003eLife_Expectancy=%{y}\\u003cbr\\u003ePopulation=%{marker.size}\\u003cextra\\u003e\\u003c\\u002fextra\\u003e\",\"hovertext\":[\"Australia\",\"Australia\"],\"legendgroup\":\"Oceania\",\"marker\":{\"color\":\"#ab63fa\",\"size\":[23401892.0,24190907.0],\"sizemode\":\"area\",\"sizeref\":12108.435555555556,\"symbol\":\"circle\"},\"mode\":\"markers\",\"name\":\"Oceania\",\"orientation\":\"v\",\"showlegend\":true,\"x\":[56305.896429454544,56305.896429454544],\"xaxis\":\"x\",\"y\":[82.4487804878049,82.4487804878049],\"yaxis\":\"y\",\"type\":\"scatter\"}],                        {\"template\":{\"data\":{\"histogram2dcontour\":[{\"type\":\"histogram2dcontour\",\"colorbar\":{\"outlinewidth\":0,\"ticks\":\"\"},\"colorscale\":[[0.0,\"#0d0887\"],[0.1111111111111111,\"#46039f\"],[0.2222222222222222,\"#7201a8\"],[0.3333333333333333,\"#9c179e\"],[0.4444444444444444,\"#bd3786\"],[0.5555555555555556,\"#d8576b\"],[0.6666666666666666,\"#ed7953\"],[0.7777777777777778,\"#fb9f3a\"],[0.8888888888888888,\"#fdca26\"],[1.0,\"#f0f921\"]]}],\"choropleth\":[{\"type\":\"choropleth\",\"colorbar\":{\"outlinewidth\":0,\"ticks\":\"\"}}],\"histogram2d\":[{\"type\":\"histogram2d\",\"colorbar\":{\"outlinewidth\":0,\"ticks\":\"\"},\"colorscale\":[[0.0,\"#0d0887\"],[0.1111111111111111,\"#46039f\"],[0.2222222222222222,\"#7201a8\"],[0.3333333333333333,\"#9c179e\"],[0.4444444444444444,\"#bd3786\"],[0.5555555555555556,\"#d8576b\"],[0.6666666666666666,\"#ed7953\"],[0.7777777777777778,\"#fb9f3a\"],[0.8888888888888888,\"#fdca26\"],[1.0,\"#f0f921\"]]}],\"heatmap\":[{\"type\":\"heatmap\",\"colorbar\":{\"outlinewidth\":0,\"ticks\":\"\"},\"colorscale\":[[0.0,\"#0d0887\"],[0.1111111111111111,\"#46039f\"],[0.2222222222222222,\"#7201a8\"],[0.3333333333333333,\"#9c179e\"],[0.4444444444444444,\"#bd3786\"],[0.5555555555555556,\"#d8576b\"],[0.6666666666666666,\"#ed7953\"],[0.7777777777777778,\"#fb9f3a\"],[0.8888888888888888,\"#fdca26\"],[1.0,\"#f0f921\"]]}],\"heatmapgl\":[{\"type\":\"heatmapgl\",\"colorbar\":{\"outlinewidth\":0,\"ticks\":\"\"},\"colorscale\":[[0.0,\"#0d0887\"],[0.1111111111111111,\"#46039f\"],[0.2222222222222222,\"#7201a8\"],[0.3333333333333333,\"#9c179e\"],[0.4444444444444444,\"#bd3786\"],[0.5555555555555556,\"#d8576b\"],[0.6666666666666666,\"#ed7953\"],[0.7777777777777778,\"#fb9f3a\"],[0.8888888888888888,\"#fdca26\"],[1.0,\"#f0f921\"]]}],\"contourcarpet\":[{\"type\":\"contourcarpet\",\"colorbar\":{\"outlinewidth\":0,\"ticks\":\"\"}}],\"contour\":[{\"type\":\"contour\",\"colorbar\":{\"outlinewidth\":0,\"ticks\":\"\"},\"colorscale\":[[0.0,\"#0d0887\"],[0.1111111111111111,\"#46039f\"],[0.2222222222222222,\"#7201a8\"],[0.3333333333333333,\"#9c179e\"],[0.4444444444444444,\"#bd3786\"],[0.5555555555555556,\"#d8576b\"],[0.6666666666666666,\"#ed7953\"],[0.7777777777777778,\"#fb9f3a\"],[0.8888888888888888,\"#fdca26\"],[1.0,\"#f0f921\"]]}],\"surface\":[{\"type\":\"surface\",\"colorbar\":{\"outlinewidth\":0,\"ticks\":\"\"},\"colorscale\":[[0.0,\"#0d0887\"],[0.1111111111111111,\"#46039f\"],[0.2222222222222222,\"#7201a8\"],[0.3333333333333333,\"#9c179e\"],[0.4444444444444444,\"#bd3786\"],[0.5555555555555556,\"#d8576b\"],[0.6666666666666666,\"#ed7953\"],[0.7777777777777778,\"#fb9f3a\"],[0.8888888888888888,\"#fdca26\"],[1.0,\"#f0f921\"]]}],\"mesh3d\":[{\"type\":\"mesh3d\",\"colorbar\":{\"outlinewidth\":0,\"ticks\":\"\"}}],\"scatter\":[{\"fillpattern\":{\"fillmode\":\"overlay\",\"size\":10,\"solidity\":0.2},\"type\":\"scatter\"}],\"parcoords\":[{\"type\":\"parcoords\",\"line\":{\"colorbar\":{\"outlinewidth\":0,\"ticks\":\"\"}}}],\"scatterpolargl\":[{\"type\":\"scatterpolargl\",\"marker\":{\"colorbar\":{\"outlinewidth\":0,\"ticks\":\"\"}}}],\"bar\":[{\"error_x\":{\"color\":\"#2a3f5f\"},\"error_y\":{\"color\":\"#2a3f5f\"},\"marker\":{\"line\":{\"color\":\"#E5ECF6\",\"width\":0.5},\"pattern\":{\"fillmode\":\"overlay\",\"size\":10,\"solidity\":0.2}},\"type\":\"bar\"}],\"scattergeo\":[{\"type\":\"scattergeo\",\"marker\":{\"colorbar\":{\"outlinewidth\":0,\"ticks\":\"\"}}}],\"scatterpolar\":[{\"type\":\"scatterpolar\",\"marker\":{\"colorbar\":{\"outlinewidth\":0,\"ticks\":\"\"}}}],\"histogram\":[{\"marker\":{\"pattern\":{\"fillmode\":\"overlay\",\"size\":10,\"solidity\":0.2}},\"type\":\"histogram\"}],\"scattergl\":[{\"type\":\"scattergl\",\"marker\":{\"colorbar\":{\"outlinewidth\":0,\"ticks\":\"\"}}}],\"scatter3d\":[{\"type\":\"scatter3d\",\"line\":{\"colorbar\":{\"outlinewidth\":0,\"ticks\":\"\"}},\"marker\":{\"colorbar\":{\"outlinewidth\":0,\"ticks\":\"\"}}}],\"scattermapbox\":[{\"type\":\"scattermapbox\",\"marker\":{\"colorbar\":{\"outlinewidth\":0,\"ticks\":\"\"}}}],\"scatterternary\":[{\"type\":\"scatterternary\",\"marker\":{\"colorbar\":{\"outlinewidth\":0,\"ticks\":\"\"}}}],\"scattercarpet\":[{\"type\":\"scattercarpet\",\"marker\":{\"colorbar\":{\"outlinewidth\":0,\"ticks\":\"\"}}}],\"carpet\":[{\"aaxis\":{\"endlinecolor\":\"#2a3f5f\",\"gridcolor\":\"white\",\"linecolor\":\"white\",\"minorgridcolor\":\"white\",\"startlinecolor\":\"#2a3f5f\"},\"baxis\":{\"endlinecolor\":\"#2a3f5f\",\"gridcolor\":\"white\",\"linecolor\":\"white\",\"minorgridcolor\":\"white\",\"startlinecolor\":\"#2a3f5f\"},\"type\":\"carpet\"}],\"table\":[{\"cells\":{\"fill\":{\"color\":\"#EBF0F8\"},\"line\":{\"color\":\"white\"}},\"header\":{\"fill\":{\"color\":\"#C8D4E3\"},\"line\":{\"color\":\"white\"}},\"type\":\"table\"}],\"barpolar\":[{\"marker\":{\"line\":{\"color\":\"#E5ECF6\",\"width\":0.5},\"pattern\":{\"fillmode\":\"overlay\",\"size\":10,\"solidity\":0.2}},\"type\":\"barpolar\"}],\"pie\":[{\"automargin\":true,\"type\":\"pie\"}]},\"layout\":{\"autotypenumbers\":\"strict\",\"colorway\":[\"#636efa\",\"#EF553B\",\"#00cc96\",\"#ab63fa\",\"#FFA15A\",\"#19d3f3\",\"#FF6692\",\"#B6E880\",\"#FF97FF\",\"#FECB52\"],\"font\":{\"color\":\"#2a3f5f\"},\"hovermode\":\"closest\",\"hoverlabel\":{\"align\":\"left\"},\"paper_bgcolor\":\"white\",\"plot_bgcolor\":\"#E5ECF6\",\"polar\":{\"bgcolor\":\"#E5ECF6\",\"angularaxis\":{\"gridcolor\":\"white\",\"linecolor\":\"white\",\"ticks\":\"\"},\"radialaxis\":{\"gridcolor\":\"white\",\"linecolor\":\"white\",\"ticks\":\"\"}},\"ternary\":{\"bgcolor\":\"#E5ECF6\",\"aaxis\":{\"gridcolor\":\"white\",\"linecolor\":\"white\",\"ticks\":\"\"},\"baxis\":{\"gridcolor\":\"white\",\"linecolor\":\"white\",\"ticks\":\"\"},\"caxis\":{\"gridcolor\":\"white\",\"linecolor\":\"white\",\"ticks\":\"\"}},\"coloraxis\":{\"colorbar\":{\"outlinewidth\":0,\"ticks\":\"\"}},\"colorscale\":{\"sequential\":[[0.0,\"#0d0887\"],[0.1111111111111111,\"#46039f\"],[0.2222222222222222,\"#7201a8\"],[0.3333333333333333,\"#9c179e\"],[0.4444444444444444,\"#bd3786\"],[0.5555555555555556,\"#d8576b\"],[0.6666666666666666,\"#ed7953\"],[0.7777777777777778,\"#fb9f3a\"],[0.8888888888888888,\"#fdca26\"],[1.0,\"#f0f921\"]],\"sequentialminus\":[[0.0,\"#0d0887\"],[0.1111111111111111,\"#46039f\"],[0.2222222222222222,\"#7201a8\"],[0.3333333333333333,\"#9c179e\"],[0.4444444444444444,\"#bd3786\"],[0.5555555555555556,\"#d8576b\"],[0.6666666666666666,\"#ed7953\"],[0.7777777777777778,\"#fb9f3a\"],[0.8888888888888888,\"#fdca26\"],[1.0,\"#f0f921\"]],\"diverging\":[[0,\"#8e0152\"],[0.1,\"#c51b7d\"],[0.2,\"#de77ae\"],[0.3,\"#f1b6da\"],[0.4,\"#fde0ef\"],[0.5,\"#f7f7f7\"],[0.6,\"#e6f5d0\"],[0.7,\"#b8e186\"],[0.8,\"#7fbc41\"],[0.9,\"#4d9221\"],[1,\"#276419\"]]},\"xaxis\":{\"gridcolor\":\"white\",\"linecolor\":\"white\",\"ticks\":\"\",\"title\":{\"standoff\":15},\"zerolinecolor\":\"white\",\"automargin\":true,\"zerolinewidth\":2},\"yaxis\":{\"gridcolor\":\"white\",\"linecolor\":\"white\",\"ticks\":\"\",\"title\":{\"standoff\":15},\"zerolinecolor\":\"white\",\"automargin\":true,\"zerolinewidth\":2},\"scene\":{\"xaxis\":{\"backgroundcolor\":\"#E5ECF6\",\"gridcolor\":\"white\",\"linecolor\":\"white\",\"showbackground\":true,\"ticks\":\"\",\"zerolinecolor\":\"white\",\"gridwidth\":2},\"yaxis\":{\"backgroundcolor\":\"#E5ECF6\",\"gridcolor\":\"white\",\"linecolor\":\"white\",\"showbackground\":true,\"ticks\":\"\",\"zerolinecolor\":\"white\",\"gridwidth\":2},\"zaxis\":{\"backgroundcolor\":\"#E5ECF6\",\"gridcolor\":\"white\",\"linecolor\":\"white\",\"showbackground\":true,\"ticks\":\"\",\"zerolinecolor\":\"white\",\"gridwidth\":2}},\"shapedefaults\":{\"line\":{\"color\":\"#2a3f5f\"}},\"annotationdefaults\":{\"arrowcolor\":\"#2a3f5f\",\"arrowhead\":0,\"arrowwidth\":1},\"geo\":{\"bgcolor\":\"white\",\"landcolor\":\"#E5ECF6\",\"subunitcolor\":\"white\",\"showland\":true,\"showlakes\":true,\"lakecolor\":\"white\"},\"title\":{\"x\":0.05},\"mapbox\":{\"style\":\"light\"}}},\"xaxis\":{\"anchor\":\"y\",\"domain\":[0.0,1.0],\"title\":{\"text\":\"GDP_Per_Capita\"},\"type\":\"log\"},\"yaxis\":{\"anchor\":\"x\",\"domain\":[0.0,1.0],\"title\":{\"text\":\"Life_Expectancy\"}},\"legend\":{\"title\":{\"text\":\"Continent\"},\"tracegroupgap\":0,\"itemsizing\":\"constant\"},\"margin\":{\"t\":60}},                        {\"responsive\": true}                    ).then(function(){\n",
       "                            \n",
       "var gd = document.getElementById('5b89197d-a83d-486c-8288-5bf597faa359');\n",
       "var x = new MutationObserver(function (mutations, observer) {{\n",
       "        var display = window.getComputedStyle(gd).display;\n",
       "        if (!display || display === 'none') {{\n",
       "            console.log([gd, 'removed!']);\n",
       "            Plotly.purge(gd);\n",
       "            observer.disconnect();\n",
       "        }}\n",
       "}});\n",
       "\n",
       "// Listen for the removal of the full notebook cells\n",
       "var notebookContainer = gd.closest('#notebook-container');\n",
       "if (notebookContainer) {{\n",
       "    x.observe(notebookContainer, {childList: true});\n",
       "}}\n",
       "\n",
       "// Listen for the clearing of the current output cell\n",
       "var outputEl = gd.closest('.output');\n",
       "if (outputEl) {{\n",
       "    x.observe(outputEl, {childList: true});\n",
       "}}\n",
       "\n",
       "                        })                };                });            </script>        </div>"
      ]
     },
     "metadata": {},
     "output_type": "display_data"
    }
   ],
   "source": [
    "# Then, create the plot\n",
    "import plotly.express as px\n",
    "gdp_le_pop = px.data.gapminder()\n",
    "fig = px.scatter(gdp_le_pop_2015, x=\"GDP_Per_Capita\", y=\"Life_Expectancy\", size=\"Population\", color=\"Continent\",\n",
    "           hover_name=\"Country\", log_x=True, size_max=60)\n",
    "fig.show()"
   ]
  },
  {
   "cell_type": "code",
   "execution_count": null,
   "id": "3b93026d-b2fa-469f-8327-0924388b835a",
   "metadata": {},
   "outputs": [],
   "source": []
  }
 ],
 "metadata": {
  "kernelspec": {
   "display_name": "Python [conda env:base] *",
   "language": "python",
   "name": "conda-base-py"
  },
  "language_info": {
   "codemirror_mode": {
    "name": "ipython",
    "version": 3
   },
   "file_extension": ".py",
   "mimetype": "text/x-python",
   "name": "python",
   "nbconvert_exporter": "python",
   "pygments_lexer": "ipython3",
   "version": "3.13.5"
  }
 },
 "nbformat": 4,
 "nbformat_minor": 5
}
